{
 "cells": [
  {
   "cell_type": "code",
   "execution_count": 1,
   "id": "f9c7c597",
   "metadata": {
    "execution": {
     "iopub.execute_input": "2021-07-04T19:48:34.849105Z",
     "iopub.status.busy": "2021-07-04T19:48:34.848468Z",
     "iopub.status.idle": "2021-07-04T19:48:43.417003Z",
     "shell.execute_reply": "2021-07-04T19:48:43.417515Z",
     "shell.execute_reply.started": "2021-07-04T11:10:25.914182Z"
    },
    "id": "Cx3e-IE_L7vG",
    "outputId": "a8a6da83-8f24-4fe3-8bf9-96a6763526f0",
    "papermill": {
     "duration": 8.651714,
     "end_time": "2021-07-04T19:48:43.417854",
     "exception": false,
     "start_time": "2021-07-04T19:48:34.766140",
     "status": "completed"
    },
    "tags": []
   },
   "outputs": [
    {
     "name": "stdout",
     "output_type": "stream",
     "text": [
      "Requirement already satisfied: seaborn in /opt/conda/lib/python3.7/site-packages (0.11.1)\r\n",
      "Requirement already satisfied: scipy>=1.0 in /opt/conda/lib/python3.7/site-packages (from seaborn) (1.6.3)\r\n",
      "Requirement already satisfied: numpy>=1.15 in /opt/conda/lib/python3.7/site-packages (from seaborn) (1.19.5)\r\n",
      "Requirement already satisfied: matplotlib>=2.2 in /opt/conda/lib/python3.7/site-packages (from seaborn) (3.4.2)\r\n",
      "Requirement already satisfied: pandas>=0.23 in /opt/conda/lib/python3.7/site-packages (from seaborn) (1.2.4)\r\n",
      "Requirement already satisfied: kiwisolver>=1.0.1 in /opt/conda/lib/python3.7/site-packages (from matplotlib>=2.2->seaborn) (1.3.1)\r\n",
      "Requirement already satisfied: cycler>=0.10 in /opt/conda/lib/python3.7/site-packages (from matplotlib>=2.2->seaborn) (0.10.0)\r\n",
      "Requirement already satisfied: python-dateutil>=2.7 in /opt/conda/lib/python3.7/site-packages (from matplotlib>=2.2->seaborn) (2.8.1)\r\n",
      "Requirement already satisfied: pillow>=6.2.0 in /opt/conda/lib/python3.7/site-packages (from matplotlib>=2.2->seaborn) (8.2.0)\r\n",
      "Requirement already satisfied: pyparsing>=2.2.1 in /opt/conda/lib/python3.7/site-packages (from matplotlib>=2.2->seaborn) (2.4.7)\r\n",
      "Requirement already satisfied: six in /opt/conda/lib/python3.7/site-packages (from cycler>=0.10->matplotlib>=2.2->seaborn) (1.15.0)\r\n",
      "Requirement already satisfied: pytz>=2017.3 in /opt/conda/lib/python3.7/site-packages (from pandas>=0.23->seaborn) (2021.1)\r\n",
      "\u001b[33mWARNING: Running pip as root will break packages and permissions. You should install packages reliably by using venv: https://pip.pypa.io/warnings/venv\u001b[0m\r\n"
     ]
    }
   ],
   "source": [
    "!pip3 install seaborn"
   ]
  },
  {
   "cell_type": "code",
   "execution_count": 2,
   "id": "caf2372b",
   "metadata": {
    "execution": {
     "iopub.execute_input": "2021-07-04T19:48:43.560952Z",
     "iopub.status.busy": "2021-07-04T19:48:43.560236Z",
     "iopub.status.idle": "2021-07-04T19:48:43.563350Z",
     "shell.execute_reply": "2021-07-04T19:48:43.562855Z",
     "shell.execute_reply.started": "2021-07-04T11:10:33.433244Z"
    },
    "id": "quMbmm05L7vK",
    "papermill": {
     "duration": 0.075202,
     "end_time": "2021-07-04T19:48:43.563510",
     "exception": false,
     "start_time": "2021-07-04T19:48:43.488308",
     "status": "completed"
    },
    "tags": []
   },
   "outputs": [],
   "source": [
    "#İmporting libaries"
   ]
  },
  {
   "cell_type": "code",
   "execution_count": 3,
   "id": "4481e7e4",
   "metadata": {
    "execution": {
     "iopub.execute_input": "2021-07-04T19:48:43.707520Z",
     "iopub.status.busy": "2021-07-04T19:48:43.706808Z",
     "iopub.status.idle": "2021-07-04T19:48:50.525873Z",
     "shell.execute_reply": "2021-07-04T19:48:50.525284Z",
     "shell.execute_reply.started": "2021-07-04T11:10:33.439005Z"
    },
    "id": "DEJ6IH4dL7vK",
    "outputId": "43f6736e-d7a6-42c6-8c60-f2f806b85800",
    "papermill": {
     "duration": 6.894707,
     "end_time": "2021-07-04T19:48:50.526015",
     "exception": false,
     "start_time": "2021-07-04T19:48:43.631308",
     "status": "completed"
    },
    "tags": []
   },
   "outputs": [
    {
     "name": "stdout",
     "output_type": "stream",
     "text": [
      "Requirement already satisfied: statsmodels in /opt/conda/lib/python3.7/site-packages (0.12.2)\r\n",
      "Requirement already satisfied: scipy>=1.1 in /opt/conda/lib/python3.7/site-packages (from statsmodels) (1.6.3)\r\n",
      "Requirement already satisfied: numpy>=1.15 in /opt/conda/lib/python3.7/site-packages (from statsmodels) (1.19.5)\r\n",
      "Requirement already satisfied: pandas>=0.21 in /opt/conda/lib/python3.7/site-packages (from statsmodels) (1.2.4)\r\n",
      "Requirement already satisfied: patsy>=0.5 in /opt/conda/lib/python3.7/site-packages (from statsmodels) (0.5.1)\r\n",
      "Requirement already satisfied: python-dateutil>=2.7.3 in /opt/conda/lib/python3.7/site-packages (from pandas>=0.21->statsmodels) (2.8.1)\r\n",
      "Requirement already satisfied: pytz>=2017.3 in /opt/conda/lib/python3.7/site-packages (from pandas>=0.21->statsmodels) (2021.1)\r\n",
      "Requirement already satisfied: six in /opt/conda/lib/python3.7/site-packages (from patsy>=0.5->statsmodels) (1.15.0)\r\n",
      "\u001b[33mWARNING: Running pip as root will break packages and permissions. You should install packages reliably by using venv: https://pip.pypa.io/warnings/venv\u001b[0m\r\n"
     ]
    }
   ],
   "source": [
    "!pip3 install statsmodels"
   ]
  },
  {
   "cell_type": "code",
   "execution_count": 4,
   "id": "6ce42182",
   "metadata": {
    "execution": {
     "iopub.execute_input": "2021-07-04T19:48:50.669437Z",
     "iopub.status.busy": "2021-07-04T19:48:50.668781Z",
     "iopub.status.idle": "2021-07-04T19:48:57.299224Z",
     "shell.execute_reply": "2021-07-04T19:48:57.298374Z",
     "shell.execute_reply.started": "2021-07-04T11:10:39.155989Z"
    },
    "id": "SvW2nKGUL7vL",
    "outputId": "e31cda94-0291-44ad-8dee-b6bae4887325",
    "papermill": {
     "duration": 6.704622,
     "end_time": "2021-07-04T19:48:57.299374",
     "exception": false,
     "start_time": "2021-07-04T19:48:50.594752",
     "status": "completed"
    },
    "tags": []
   },
   "outputs": [
    {
     "name": "stdout",
     "output_type": "stream",
     "text": [
      "Requirement already satisfied: xgboost in /opt/conda/lib/python3.7/site-packages (1.4.2)\r\n",
      "Requirement already satisfied: scipy in /opt/conda/lib/python3.7/site-packages (from xgboost) (1.6.3)\r\n",
      "Requirement already satisfied: numpy in /opt/conda/lib/python3.7/site-packages (from xgboost) (1.19.5)\r\n",
      "\u001b[33mWARNING: Running pip as root will break packages and permissions. You should install packages reliably by using venv: https://pip.pypa.io/warnings/venv\u001b[0m\r\n"
     ]
    }
   ],
   "source": [
    "!pip3 install xgboost"
   ]
  },
  {
   "cell_type": "code",
   "execution_count": 5,
   "id": "d15eb140",
   "metadata": {
    "execution": {
     "iopub.execute_input": "2021-07-04T19:48:57.443696Z",
     "iopub.status.busy": "2021-07-04T19:48:57.443049Z",
     "iopub.status.idle": "2021-07-04T19:49:03.994870Z",
     "shell.execute_reply": "2021-07-04T19:49:03.995427Z",
     "shell.execute_reply.started": "2021-07-04T11:10:44.883230Z"
    },
    "id": "w13v-hOsL7vM",
    "outputId": "17569e26-0256-485e-e346-1ba28b4fcac3",
    "papermill": {
     "duration": 6.627137,
     "end_time": "2021-07-04T19:49:03.995600",
     "exception": false,
     "start_time": "2021-07-04T19:48:57.368463",
     "status": "completed"
    },
    "tags": []
   },
   "outputs": [
    {
     "name": "stdout",
     "output_type": "stream",
     "text": [
      "Requirement already satisfied: sklearn in /opt/conda/lib/python3.7/site-packages (0.0)\r\n",
      "Requirement already satisfied: scikit-learn in /opt/conda/lib/python3.7/site-packages (from sklearn) (0.23.2)\r\n",
      "Requirement already satisfied: scipy>=0.19.1 in /opt/conda/lib/python3.7/site-packages (from scikit-learn->sklearn) (1.6.3)\r\n",
      "Requirement already satisfied: numpy>=1.13.3 in /opt/conda/lib/python3.7/site-packages (from scikit-learn->sklearn) (1.19.5)\r\n",
      "Requirement already satisfied: threadpoolctl>=2.0.0 in /opt/conda/lib/python3.7/site-packages (from scikit-learn->sklearn) (2.1.0)\r\n",
      "Requirement already satisfied: joblib>=0.11 in /opt/conda/lib/python3.7/site-packages (from scikit-learn->sklearn) (1.0.1)\r\n",
      "\u001b[33mWARNING: Running pip as root will break packages and permissions. You should install packages reliably by using venv: https://pip.pypa.io/warnings/venv\u001b[0m\r\n"
     ]
    }
   ],
   "source": [
    "!pip3 install sklearn"
   ]
  },
  {
   "cell_type": "code",
   "execution_count": 6,
   "id": "8ad2a84b",
   "metadata": {
    "execution": {
     "iopub.execute_input": "2021-07-04T19:49:04.143006Z",
     "iopub.status.busy": "2021-07-04T19:49:04.142336Z",
     "iopub.status.idle": "2021-07-04T19:49:05.829266Z",
     "shell.execute_reply": "2021-07-04T19:49:05.829763Z",
     "shell.execute_reply.started": "2021-07-04T11:10:50.947814Z"
    },
    "id": "tqbXW_lBL7vM",
    "outputId": "fea7c5f0-647e-479c-a9ce-5f30e274b7f7",
    "papermill": {
     "duration": 1.764451,
     "end_time": "2021-07-04T19:49:05.829951",
     "exception": false,
     "start_time": "2021-07-04T19:49:04.065500",
     "status": "completed"
    },
    "tags": []
   },
   "outputs": [],
   "source": [
    "import pandas as pd\n",
    "import numpy as np\n",
    "import seaborn as sns\n",
    "import matplotlib.pyplot as plt\n",
    "import statsmodels.formula.api as sm\n",
    "import xgboost\n",
    "\n",
    "from sklearn.metrics import mean_squared_error,r2_score, mean_absolute_error\n",
    "from sklearn.model_selection import train_test_split, GridSearchCV\n",
    "from sklearn.preprocessing import StandardScaler, MinMaxScaler\n",
    "\n",
    "from sklearn.ensemble import AdaBoostRegressor\n",
    "from xgboost.sklearn import XGBRegressor \n",
    "from sklearn.ensemble import RandomForestRegressor, GradientBoostingRegressor\n",
    "from sklearn.tree import DecisionTreeRegressor\n",
    "from sklearn.svm import SVR\n",
    "from sklearn import neighbors\n",
    "from sklearn.neural_network import MLPRegressor\n",
    "from sklearn.preprocessing import PolynomialFeatures\n",
    "from sklearn.linear_model import LinearRegression"
   ]
  },
  {
   "cell_type": "code",
   "execution_count": 7,
   "id": "a226a0f5",
   "metadata": {
    "execution": {
     "iopub.execute_input": "2021-07-04T19:49:05.974132Z",
     "iopub.status.busy": "2021-07-04T19:49:05.973441Z",
     "iopub.status.idle": "2021-07-04T19:49:06.001641Z",
     "shell.execute_reply": "2021-07-04T19:49:06.002217Z",
     "shell.execute_reply.started": "2021-07-04T11:10:52.921341Z"
    },
    "id": "CWhtdDgfL7vN",
    "papermill": {
     "duration": 0.100931,
     "end_time": "2021-07-04T19:49:06.002426",
     "exception": false,
     "start_time": "2021-07-04T19:49:05.901495",
     "status": "completed"
    },
    "tags": []
   },
   "outputs": [],
   "source": [
    "data=pd.read_csv(\"../input/marrket-mix-dataset/mktmix.csv\")"
   ]
  },
  {
   "cell_type": "code",
   "execution_count": 8,
   "id": "ecb82112",
   "metadata": {
    "execution": {
     "iopub.execute_input": "2021-07-04T19:49:06.146221Z",
     "iopub.status.busy": "2021-07-04T19:49:06.145548Z",
     "iopub.status.idle": "2021-07-04T19:49:06.148813Z",
     "shell.execute_reply": "2021-07-04T19:49:06.149254Z",
     "shell.execute_reply.started": "2021-07-04T11:10:52.951541Z"
    },
    "id": "BjxOZ4VhL7vN",
    "papermill": {
     "duration": 0.076247,
     "end_time": "2021-07-04T19:49:06.149433",
     "exception": false,
     "start_time": "2021-07-04T19:49:06.073186",
     "status": "completed"
    },
    "tags": []
   },
   "outputs": [],
   "source": [
    "import warnings\n",
    "warnings.filterwarnings(\"ignore\")"
   ]
  },
  {
   "cell_type": "code",
   "execution_count": 9,
   "id": "34e75ed8",
   "metadata": {
    "execution": {
     "iopub.execute_input": "2021-07-04T19:49:06.291730Z",
     "iopub.status.busy": "2021-07-04T19:49:06.291070Z",
     "iopub.status.idle": "2021-07-04T19:49:06.294088Z",
     "shell.execute_reply": "2021-07-04T19:49:06.294567Z",
     "shell.execute_reply.started": "2021-07-04T11:10:52.959721Z"
    },
    "id": "pzx51MJXL7vN",
    "papermill": {
     "duration": 0.07536,
     "end_time": "2021-07-04T19:49:06.294750",
     "exception": false,
     "start_time": "2021-07-04T19:49:06.219390",
     "status": "completed"
    },
    "tags": []
   },
   "outputs": [],
   "source": [
    "# Reading the data"
   ]
  },
  {
   "cell_type": "code",
   "execution_count": null,
   "id": "2e8447e2",
   "metadata": {
    "id": "LdRIsrDxL7vO",
    "outputId": "bc3e50a0-9edf-4b31-93af-d34b2bf4dd87",
    "papermill": {
     "duration": 0.071597,
     "end_time": "2021-07-04T19:49:06.435499",
     "exception": false,
     "start_time": "2021-07-04T19:49:06.363902",
     "status": "completed"
    },
    "tags": []
   },
   "outputs": [],
   "source": []
  },
  {
   "cell_type": "code",
   "execution_count": 10,
   "id": "c13fbe76",
   "metadata": {
    "execution": {
     "iopub.execute_input": "2021-07-04T19:49:06.576977Z",
     "iopub.status.busy": "2021-07-04T19:49:06.576325Z",
     "iopub.status.idle": "2021-07-04T19:49:06.605690Z",
     "shell.execute_reply": "2021-07-04T19:49:06.606164Z",
     "shell.execute_reply.started": "2021-07-04T11:10:52.975497Z"
    },
    "id": "WUxHqysIL7vO",
    "outputId": "1bce9e54-de60-4821-995f-c40e31efdfd9",
    "papermill": {
     "duration": 0.101536,
     "end_time": "2021-07-04T19:49:06.606325",
     "exception": false,
     "start_time": "2021-07-04T19:49:06.504789",
     "status": "completed"
    },
    "tags": []
   },
   "outputs": [
    {
     "data": {
      "text/html": [
       "<div>\n",
       "<style scoped>\n",
       "    .dataframe tbody tr th:only-of-type {\n",
       "        vertical-align: middle;\n",
       "    }\n",
       "\n",
       "    .dataframe tbody tr th {\n",
       "        vertical-align: top;\n",
       "    }\n",
       "\n",
       "    .dataframe thead th {\n",
       "        text-align: right;\n",
       "    }\n",
       "</style>\n",
       "<table border=\"1\" class=\"dataframe\">\n",
       "  <thead>\n",
       "    <tr style=\"text-align: right;\">\n",
       "      <th></th>\n",
       "      <th>NewVolSales</th>\n",
       "      <th>Base_Price</th>\n",
       "      <th>Radio</th>\n",
       "      <th>InStore</th>\n",
       "      <th>NewspaperInserts</th>\n",
       "      <th>Discount</th>\n",
       "      <th>TV</th>\n",
       "      <th>Stout</th>\n",
       "      <th>Website_Campaign</th>\n",
       "    </tr>\n",
       "  </thead>\n",
       "  <tbody>\n",
       "    <tr>\n",
       "      <th>0</th>\n",
       "      <td>19564</td>\n",
       "      <td>15.029276</td>\n",
       "      <td>245.0</td>\n",
       "      <td>15.452</td>\n",
       "      <td>NaN</td>\n",
       "      <td>0.000</td>\n",
       "      <td>101.780000</td>\n",
       "      <td>2.28342</td>\n",
       "      <td>NaN</td>\n",
       "    </tr>\n",
       "    <tr>\n",
       "      <th>1</th>\n",
       "      <td>19387</td>\n",
       "      <td>15.029276</td>\n",
       "      <td>314.0</td>\n",
       "      <td>16.388</td>\n",
       "      <td>NaN</td>\n",
       "      <td>0.000</td>\n",
       "      <td>76.734000</td>\n",
       "      <td>2.22134</td>\n",
       "      <td>NaN</td>\n",
       "    </tr>\n",
       "    <tr>\n",
       "      <th>2</th>\n",
       "      <td>23889</td>\n",
       "      <td>14.585093</td>\n",
       "      <td>324.0</td>\n",
       "      <td>62.692</td>\n",
       "      <td>NaN</td>\n",
       "      <td>0.050</td>\n",
       "      <td>131.590200</td>\n",
       "      <td>2.00604</td>\n",
       "      <td>NaN</td>\n",
       "    </tr>\n",
       "    <tr>\n",
       "      <th>3</th>\n",
       "      <td>20055</td>\n",
       "      <td>15.332887</td>\n",
       "      <td>298.0</td>\n",
       "      <td>16.573</td>\n",
       "      <td>NaN</td>\n",
       "      <td>0.000</td>\n",
       "      <td>119.627060</td>\n",
       "      <td>2.19897</td>\n",
       "      <td>NaN</td>\n",
       "    </tr>\n",
       "    <tr>\n",
       "      <th>4</th>\n",
       "      <td>20064</td>\n",
       "      <td>15.642632</td>\n",
       "      <td>279.0</td>\n",
       "      <td>41.504</td>\n",
       "      <td>NaN</td>\n",
       "      <td>0.045</td>\n",
       "      <td>103.438118</td>\n",
       "      <td>1.81860</td>\n",
       "      <td>NaN</td>\n",
       "    </tr>\n",
       "  </tbody>\n",
       "</table>\n",
       "</div>"
      ],
      "text/plain": [
       "   NewVolSales  Base_Price  Radio   InStore NewspaperInserts  Discount  \\\n",
       "0        19564   15.029276   245.0   15.452              NaN     0.000   \n",
       "1        19387   15.029276   314.0   16.388              NaN     0.000   \n",
       "2        23889   14.585093   324.0   62.692              NaN     0.050   \n",
       "3        20055   15.332887   298.0   16.573              NaN     0.000   \n",
       "4        20064   15.642632   279.0   41.504              NaN     0.045   \n",
       "\n",
       "           TV    Stout Website_Campaign   \n",
       "0  101.780000  2.28342               NaN  \n",
       "1   76.734000  2.22134               NaN  \n",
       "2  131.590200  2.00604               NaN  \n",
       "3  119.627060  2.19897               NaN  \n",
       "4  103.438118  1.81860               NaN  "
      ]
     },
     "execution_count": 10,
     "metadata": {},
     "output_type": "execute_result"
    }
   ],
   "source": [
    "data.head()"
   ]
  },
  {
   "cell_type": "code",
   "execution_count": 11,
   "id": "b1475d41",
   "metadata": {
    "execution": {
     "iopub.execute_input": "2021-07-04T19:49:06.751076Z",
     "iopub.status.busy": "2021-07-04T19:49:06.750411Z",
     "iopub.status.idle": "2021-07-04T19:49:06.757216Z",
     "shell.execute_reply": "2021-07-04T19:49:06.757739Z",
     "shell.execute_reply.started": "2021-07-04T11:10:53.022320Z"
    },
    "id": "MIb-O3NsL7vO",
    "papermill": {
     "duration": 0.080846,
     "end_time": "2021-07-04T19:49:06.757913",
     "exception": false,
     "start_time": "2021-07-04T19:49:06.677067",
     "status": "completed"
    },
    "tags": []
   },
   "outputs": [],
   "source": [
    "data = data.rename(columns = { 'NewVolSales' : 'NewVolSales', \n",
    "                  'Base_Price' : 'Base_Price', \n",
    "                  'Radio ':  'Radio', \n",
    "                  'InStore' : 'InStore', \n",
    "                  'NewspaperInserts' : 'NewspaperInserts', \n",
    "                  'Discount' : 'Discount' , \n",
    "                  'TV' : 'TV', \n",
    "                  'Stout' : 'Stout', \n",
    "                  'Website_Campaign ':  'Web'})"
   ]
  },
  {
   "cell_type": "code",
   "execution_count": 12,
   "id": "1c8d4668",
   "metadata": {
    "execution": {
     "iopub.execute_input": "2021-07-04T19:49:06.903562Z",
     "iopub.status.busy": "2021-07-04T19:49:06.902892Z",
     "iopub.status.idle": "2021-07-04T19:49:06.904925Z",
     "shell.execute_reply": "2021-07-04T19:49:06.905402Z",
     "shell.execute_reply.started": "2021-07-04T11:10:53.032447Z"
    },
    "id": "G_1U7usbL7vP",
    "papermill": {
     "duration": 0.077402,
     "end_time": "2021-07-04T19:49:06.905571",
     "exception": false,
     "start_time": "2021-07-04T19:49:06.828169",
     "status": "completed"
    },
    "tags": []
   },
   "outputs": [],
   "source": [
    "# Understanding the data"
   ]
  },
  {
   "cell_type": "code",
   "execution_count": 13,
   "id": "44ce7182",
   "metadata": {
    "execution": {
     "iopub.execute_input": "2021-07-04T19:49:07.049804Z",
     "iopub.status.busy": "2021-07-04T19:49:07.049139Z",
     "iopub.status.idle": "2021-07-04T19:49:07.067795Z",
     "shell.execute_reply": "2021-07-04T19:49:07.068311Z",
     "shell.execute_reply.started": "2021-07-04T11:10:53.046375Z"
    },
    "id": "RT_qEyv-L7vP",
    "outputId": "fa4de150-7f02-425c-91ad-6c01af7699ac",
    "papermill": {
     "duration": 0.092283,
     "end_time": "2021-07-04T19:49:07.068486",
     "exception": false,
     "start_time": "2021-07-04T19:49:06.976203",
     "status": "completed"
    },
    "tags": []
   },
   "outputs": [
    {
     "name": "stdout",
     "output_type": "stream",
     "text": [
      "<class 'pandas.core.frame.DataFrame'>\n",
      "RangeIndex: 104 entries, 0 to 103\n",
      "Data columns (total 9 columns):\n",
      " #   Column            Non-Null Count  Dtype  \n",
      "---  ------            --------------  -----  \n",
      " 0   NewVolSales       104 non-null    int64  \n",
      " 1   Base_Price        104 non-null    float64\n",
      " 2   Radio             100 non-null    float64\n",
      " 3   InStore           104 non-null    float64\n",
      " 4   NewspaperInserts  6 non-null      object \n",
      " 5   Discount          104 non-null    float64\n",
      " 6   TV                104 non-null    float64\n",
      " 7   Stout             104 non-null    float64\n",
      " 8   Web               14 non-null     object \n",
      "dtypes: float64(6), int64(1), object(2)\n",
      "memory usage: 7.4+ KB\n"
     ]
    }
   ],
   "source": [
    "data.info()"
   ]
  },
  {
   "cell_type": "code",
   "execution_count": 14,
   "id": "16dec5cb",
   "metadata": {
    "execution": {
     "iopub.execute_input": "2021-07-04T19:49:07.216663Z",
     "iopub.status.busy": "2021-07-04T19:49:07.215721Z",
     "iopub.status.idle": "2021-07-04T19:49:07.220139Z",
     "shell.execute_reply": "2021-07-04T19:49:07.219589Z",
     "shell.execute_reply.started": "2021-07-04T11:10:53.081438Z"
    },
    "id": "5ZCgTvx4L7vP",
    "outputId": "e510acc8-491a-463b-ea1e-4f390ab3b076",
    "papermill": {
     "duration": 0.080042,
     "end_time": "2021-07-04T19:49:07.220277",
     "exception": false,
     "start_time": "2021-07-04T19:49:07.140235",
     "status": "completed"
    },
    "tags": []
   },
   "outputs": [
    {
     "data": {
      "text/plain": [
       "(104, 9)"
      ]
     },
     "execution_count": 14,
     "metadata": {},
     "output_type": "execute_result"
    }
   ],
   "source": [
    "data.shape"
   ]
  },
  {
   "cell_type": "code",
   "execution_count": 15,
   "id": "e4261a08",
   "metadata": {
    "execution": {
     "iopub.execute_input": "2021-07-04T19:49:07.371450Z",
     "iopub.status.busy": "2021-07-04T19:49:07.370811Z",
     "iopub.status.idle": "2021-07-04T19:49:07.374971Z",
     "shell.execute_reply": "2021-07-04T19:49:07.374307Z",
     "shell.execute_reply.started": "2021-07-04T11:10:53.099378Z"
    },
    "id": "-j3pyETDL7vQ",
    "outputId": "82b31b6c-fa15-4261-a09c-bdc0a4545c34",
    "papermill": {
     "duration": 0.082666,
     "end_time": "2021-07-04T19:49:07.375135",
     "exception": false,
     "start_time": "2021-07-04T19:49:07.292469",
     "status": "completed"
    },
    "tags": []
   },
   "outputs": [
    {
     "data": {
      "text/plain": [
       "NewVolSales          0\n",
       "Base_Price           0\n",
       "Radio                4\n",
       "InStore              0\n",
       "NewspaperInserts    98\n",
       "Discount             0\n",
       "TV                   0\n",
       "Stout                0\n",
       "Web                 90\n",
       "dtype: int64"
      ]
     },
     "execution_count": 15,
     "metadata": {},
     "output_type": "execute_result"
    }
   ],
   "source": [
    "data.isnull().sum()"
   ]
  },
  {
   "cell_type": "code",
   "execution_count": 16,
   "id": "c17108fd",
   "metadata": {
    "execution": {
     "iopub.execute_input": "2021-07-04T19:49:07.553859Z",
     "iopub.status.busy": "2021-07-04T19:49:07.553119Z",
     "iopub.status.idle": "2021-07-04T19:49:07.556500Z",
     "shell.execute_reply": "2021-07-04T19:49:07.555938Z",
     "shell.execute_reply.started": "2021-07-04T11:10:53.119357Z"
    },
    "id": "cal3rT0WL7vQ",
    "papermill": {
     "duration": 0.088626,
     "end_time": "2021-07-04T19:49:07.556647",
     "exception": false,
     "start_time": "2021-07-04T19:49:07.468021",
     "status": "completed"
    },
    "tags": []
   },
   "outputs": [],
   "source": [
    "# Preprocessing"
   ]
  },
  {
   "cell_type": "code",
   "execution_count": 17,
   "id": "fec0d8d7",
   "metadata": {
    "execution": {
     "iopub.execute_input": "2021-07-04T19:49:07.715230Z",
     "iopub.status.busy": "2021-07-04T19:49:07.708588Z",
     "iopub.status.idle": "2021-07-04T19:49:07.719214Z",
     "shell.execute_reply": "2021-07-04T19:49:07.718575Z",
     "shell.execute_reply.started": "2021-07-04T11:10:53.135768Z"
    },
    "id": "S2W44lHLL7vR",
    "outputId": "397585bc-9add-4c40-b6e7-a202c74f7162",
    "papermill": {
     "duration": 0.091291,
     "end_time": "2021-07-04T19:49:07.719360",
     "exception": false,
     "start_time": "2021-07-04T19:49:07.628069",
     "status": "completed"
    },
    "tags": []
   },
   "outputs": [
    {
     "data": {
      "text/html": [
       "<div>\n",
       "<style scoped>\n",
       "    .dataframe tbody tr th:only-of-type {\n",
       "        vertical-align: middle;\n",
       "    }\n",
       "\n",
       "    .dataframe tbody tr th {\n",
       "        vertical-align: top;\n",
       "    }\n",
       "\n",
       "    .dataframe thead th {\n",
       "        text-align: right;\n",
       "    }\n",
       "</style>\n",
       "<table border=\"1\" class=\"dataframe\">\n",
       "  <thead>\n",
       "    <tr style=\"text-align: right;\">\n",
       "      <th></th>\n",
       "      <th>NewVolSales</th>\n",
       "      <th>Base_Price</th>\n",
       "      <th>Radio</th>\n",
       "      <th>InStore</th>\n",
       "      <th>NewspaperInserts</th>\n",
       "      <th>Discount</th>\n",
       "      <th>TV</th>\n",
       "      <th>Stout</th>\n",
       "      <th>Web</th>\n",
       "    </tr>\n",
       "  </thead>\n",
       "  <tbody>\n",
       "    <tr>\n",
       "      <th>0</th>\n",
       "      <td>19564</td>\n",
       "      <td>15.029276</td>\n",
       "      <td>245.0</td>\n",
       "      <td>15.452</td>\n",
       "      <td>NaN</td>\n",
       "      <td>0.000</td>\n",
       "      <td>101.780000</td>\n",
       "      <td>2.28342</td>\n",
       "      <td>NaN</td>\n",
       "    </tr>\n",
       "    <tr>\n",
       "      <th>1</th>\n",
       "      <td>19387</td>\n",
       "      <td>15.029276</td>\n",
       "      <td>314.0</td>\n",
       "      <td>16.388</td>\n",
       "      <td>NaN</td>\n",
       "      <td>0.000</td>\n",
       "      <td>76.734000</td>\n",
       "      <td>2.22134</td>\n",
       "      <td>NaN</td>\n",
       "    </tr>\n",
       "    <tr>\n",
       "      <th>2</th>\n",
       "      <td>23889</td>\n",
       "      <td>14.585093</td>\n",
       "      <td>324.0</td>\n",
       "      <td>62.692</td>\n",
       "      <td>NaN</td>\n",
       "      <td>0.050</td>\n",
       "      <td>131.590200</td>\n",
       "      <td>2.00604</td>\n",
       "      <td>NaN</td>\n",
       "    </tr>\n",
       "    <tr>\n",
       "      <th>3</th>\n",
       "      <td>20055</td>\n",
       "      <td>15.332887</td>\n",
       "      <td>298.0</td>\n",
       "      <td>16.573</td>\n",
       "      <td>NaN</td>\n",
       "      <td>0.000</td>\n",
       "      <td>119.627060</td>\n",
       "      <td>2.19897</td>\n",
       "      <td>NaN</td>\n",
       "    </tr>\n",
       "    <tr>\n",
       "      <th>4</th>\n",
       "      <td>20064</td>\n",
       "      <td>15.642632</td>\n",
       "      <td>279.0</td>\n",
       "      <td>41.504</td>\n",
       "      <td>NaN</td>\n",
       "      <td>0.045</td>\n",
       "      <td>103.438118</td>\n",
       "      <td>1.81860</td>\n",
       "      <td>NaN</td>\n",
       "    </tr>\n",
       "  </tbody>\n",
       "</table>\n",
       "</div>"
      ],
      "text/plain": [
       "   NewVolSales  Base_Price  Radio  InStore NewspaperInserts  Discount  \\\n",
       "0        19564   15.029276  245.0   15.452              NaN     0.000   \n",
       "1        19387   15.029276  314.0   16.388              NaN     0.000   \n",
       "2        23889   14.585093  324.0   62.692              NaN     0.050   \n",
       "3        20055   15.332887  298.0   16.573              NaN     0.000   \n",
       "4        20064   15.642632  279.0   41.504              NaN     0.045   \n",
       "\n",
       "           TV    Stout  Web  \n",
       "0  101.780000  2.28342  NaN  \n",
       "1   76.734000  2.22134  NaN  \n",
       "2  131.590200  2.00604  NaN  \n",
       "3  119.627060  2.19897  NaN  \n",
       "4  103.438118  1.81860  NaN  "
      ]
     },
     "execution_count": 17,
     "metadata": {},
     "output_type": "execute_result"
    }
   ],
   "source": [
    "data.head()"
   ]
  },
  {
   "cell_type": "code",
   "execution_count": 18,
   "id": "e2e21da8",
   "metadata": {
    "execution": {
     "iopub.execute_input": "2021-07-04T19:49:07.873090Z",
     "iopub.status.busy": "2021-07-04T19:49:07.872213Z",
     "iopub.status.idle": "2021-07-04T19:49:07.876218Z",
     "shell.execute_reply": "2021-07-04T19:49:07.875600Z",
     "shell.execute_reply.started": "2021-07-04T11:10:53.168547Z"
    },
    "id": "IQF47lwXL7vS",
    "outputId": "ff99cb58-c74e-4d67-ffdd-5da8e029ed0e",
    "papermill": {
     "duration": 0.084694,
     "end_time": "2021-07-04T19:49:07.876354",
     "exception": false,
     "start_time": "2021-07-04T19:49:07.791660",
     "status": "completed"
    },
    "tags": []
   },
   "outputs": [
    {
     "data": {
      "text/plain": [
       "NewVolSales          0\n",
       "Base_Price           0\n",
       "Radio                4\n",
       "InStore              0\n",
       "NewspaperInserts    98\n",
       "Discount             0\n",
       "TV                   0\n",
       "Stout                0\n",
       "Web                 90\n",
       "dtype: int64"
      ]
     },
     "execution_count": 18,
     "metadata": {},
     "output_type": "execute_result"
    }
   ],
   "source": [
    "data.isnull().sum()"
   ]
  },
  {
   "cell_type": "code",
   "execution_count": 19,
   "id": "3065b3e8",
   "metadata": {
    "execution": {
     "iopub.execute_input": "2021-07-04T19:49:08.030874Z",
     "iopub.status.busy": "2021-07-04T19:49:08.030174Z",
     "iopub.status.idle": "2021-07-04T19:49:08.033049Z",
     "shell.execute_reply": "2021-07-04T19:49:08.033558Z",
     "shell.execute_reply.started": "2021-07-04T11:10:53.186737Z"
    },
    "id": "K8iEur4YL7vS",
    "papermill": {
     "duration": 0.083972,
     "end_time": "2021-07-04T19:49:08.033781",
     "exception": false,
     "start_time": "2021-07-04T19:49:07.949809",
     "status": "completed"
    },
    "tags": []
   },
   "outputs": [],
   "source": [
    "data[\"Web\"] = data[\"Web\"].fillna(\"other\")\n",
    "data[\"NewspaperInserts\"] = data[\"NewspaperInserts\"].fillna(\"other\")\n",
    "data[\"Radio\"] = data[\"Radio\"].fillna(data[\"Radio\"].median())"
   ]
  },
  {
   "cell_type": "code",
   "execution_count": 20,
   "id": "a1bfdbd6",
   "metadata": {
    "execution": {
     "iopub.execute_input": "2021-07-04T19:49:08.188038Z",
     "iopub.status.busy": "2021-07-04T19:49:08.187292Z",
     "iopub.status.idle": "2021-07-04T19:49:08.193475Z",
     "shell.execute_reply": "2021-07-04T19:49:08.192832Z",
     "shell.execute_reply.started": "2021-07-04T11:10:53.205805Z"
    },
    "id": "M8tkDU4nL7vT",
    "outputId": "47a81a4d-454a-434c-ce89-4faeb7646222",
    "papermill": {
     "duration": 0.086755,
     "end_time": "2021-07-04T19:49:08.193616",
     "exception": false,
     "start_time": "2021-07-04T19:49:08.106861",
     "status": "completed"
    },
    "tags": []
   },
   "outputs": [
    {
     "data": {
      "text/plain": [
       "NewVolSales         0\n",
       "Base_Price          0\n",
       "Radio               0\n",
       "InStore             0\n",
       "NewspaperInserts    0\n",
       "Discount            0\n",
       "TV                  0\n",
       "Stout               0\n",
       "Web                 0\n",
       "dtype: int64"
      ]
     },
     "execution_count": 20,
     "metadata": {},
     "output_type": "execute_result"
    }
   ],
   "source": [
    "data.isnull().sum()"
   ]
  },
  {
   "cell_type": "code",
   "execution_count": 21,
   "id": "5859886b",
   "metadata": {
    "execution": {
     "iopub.execute_input": "2021-07-04T19:49:08.356787Z",
     "iopub.status.busy": "2021-07-04T19:49:08.355935Z",
     "iopub.status.idle": "2021-07-04T19:49:08.360359Z",
     "shell.execute_reply": "2021-07-04T19:49:08.359628Z",
     "shell.execute_reply.started": "2021-07-04T11:10:53.226338Z"
    },
    "id": "xYyZtyqML7vT",
    "outputId": "3b9d85cc-ee43-4e3e-9902-42aff5078a2a",
    "papermill": {
     "duration": 0.092959,
     "end_time": "2021-07-04T19:49:08.360514",
     "exception": false,
     "start_time": "2021-07-04T19:49:08.267555",
     "status": "completed"
    },
    "tags": []
   },
   "outputs": [
    {
     "name": "stdout",
     "output_type": "stream",
     "text": [
      "<class 'pandas.core.frame.DataFrame'>\n",
      "RangeIndex: 104 entries, 0 to 103\n",
      "Data columns (total 9 columns):\n",
      " #   Column            Non-Null Count  Dtype  \n",
      "---  ------            --------------  -----  \n",
      " 0   NewVolSales       104 non-null    int64  \n",
      " 1   Base_Price        104 non-null    float64\n",
      " 2   Radio             104 non-null    float64\n",
      " 3   InStore           104 non-null    float64\n",
      " 4   NewspaperInserts  104 non-null    object \n",
      " 5   Discount          104 non-null    float64\n",
      " 6   TV                104 non-null    float64\n",
      " 7   Stout             104 non-null    float64\n",
      " 8   Web               104 non-null    object \n",
      "dtypes: float64(6), int64(1), object(2)\n",
      "memory usage: 7.4+ KB\n"
     ]
    }
   ],
   "source": [
    "data.info()"
   ]
  },
  {
   "cell_type": "code",
   "execution_count": 22,
   "id": "a832103d",
   "metadata": {
    "execution": {
     "iopub.execute_input": "2021-07-04T19:49:08.518691Z",
     "iopub.status.busy": "2021-07-04T19:49:08.518015Z",
     "iopub.status.idle": "2021-07-04T19:49:08.547802Z",
     "shell.execute_reply": "2021-07-04T19:49:08.548317Z",
     "shell.execute_reply.started": "2021-07-04T11:10:53.252343Z"
    },
    "id": "5EgUN5d0L7vT",
    "outputId": "8ce4b077-5ce8-44cb-c32d-73c44af35bd6",
    "papermill": {
     "duration": 0.112537,
     "end_time": "2021-07-04T19:49:08.548505",
     "exception": false,
     "start_time": "2021-07-04T19:49:08.435968",
     "status": "completed"
    },
    "tags": []
   },
   "outputs": [
    {
     "data": {
      "text/html": [
       "<div>\n",
       "<style scoped>\n",
       "    .dataframe tbody tr th:only-of-type {\n",
       "        vertical-align: middle;\n",
       "    }\n",
       "\n",
       "    .dataframe tbody tr th {\n",
       "        vertical-align: top;\n",
       "    }\n",
       "\n",
       "    .dataframe thead th {\n",
       "        text-align: right;\n",
       "    }\n",
       "</style>\n",
       "<table border=\"1\" class=\"dataframe\">\n",
       "  <thead>\n",
       "    <tr style=\"text-align: right;\">\n",
       "      <th></th>\n",
       "      <th>NewVolSales</th>\n",
       "      <th>Base_Price</th>\n",
       "      <th>Radio</th>\n",
       "      <th>InStore</th>\n",
       "      <th>Discount</th>\n",
       "      <th>TV</th>\n",
       "      <th>Stout</th>\n",
       "    </tr>\n",
       "  </thead>\n",
       "  <tbody>\n",
       "    <tr>\n",
       "      <th>count</th>\n",
       "      <td>104.000000</td>\n",
       "      <td>104.000000</td>\n",
       "      <td>104.000000</td>\n",
       "      <td>104.000000</td>\n",
       "      <td>104.000000</td>\n",
       "      <td>104.000000</td>\n",
       "      <td>104.000000</td>\n",
       "    </tr>\n",
       "    <tr>\n",
       "      <th>mean</th>\n",
       "      <td>20171.067308</td>\n",
       "      <td>15.306740</td>\n",
       "      <td>257.528846</td>\n",
       "      <td>32.918567</td>\n",
       "      <td>0.022059</td>\n",
       "      <td>141.009774</td>\n",
       "      <td>2.545966</td>\n",
       "    </tr>\n",
       "    <tr>\n",
       "      <th>std</th>\n",
       "      <td>1578.604670</td>\n",
       "      <td>0.528902</td>\n",
       "      <td>85.392805</td>\n",
       "      <td>13.682570</td>\n",
       "      <td>0.027668</td>\n",
       "      <td>42.949231</td>\n",
       "      <td>0.310070</td>\n",
       "    </tr>\n",
       "    <tr>\n",
       "      <th>min</th>\n",
       "      <td>17431.000000</td>\n",
       "      <td>13.735724</td>\n",
       "      <td>0.000000</td>\n",
       "      <td>10.782000</td>\n",
       "      <td>0.000000</td>\n",
       "      <td>37.656174</td>\n",
       "      <td>1.818600</td>\n",
       "    </tr>\n",
       "    <tr>\n",
       "      <th>25%</th>\n",
       "      <td>19048.750000</td>\n",
       "      <td>15.029276</td>\n",
       "      <td>235.750000</td>\n",
       "      <td>22.183750</td>\n",
       "      <td>0.000000</td>\n",
       "      <td>117.108343</td>\n",
       "      <td>2.316450</td>\n",
       "    </tr>\n",
       "    <tr>\n",
       "      <th>50%</th>\n",
       "      <td>19943.500000</td>\n",
       "      <td>15.332887</td>\n",
       "      <td>278.500000</td>\n",
       "      <td>31.161500</td>\n",
       "      <td>0.000000</td>\n",
       "      <td>138.581542</td>\n",
       "      <td>2.502120</td>\n",
       "    </tr>\n",
       "    <tr>\n",
       "      <th>75%</th>\n",
       "      <td>20942.750000</td>\n",
       "      <td>15.642632</td>\n",
       "      <td>312.250000</td>\n",
       "      <td>41.079000</td>\n",
       "      <td>0.049423</td>\n",
       "      <td>175.681780</td>\n",
       "      <td>2.814315</td>\n",
       "    </tr>\n",
       "    <tr>\n",
       "      <th>max</th>\n",
       "      <td>24944.000000</td>\n",
       "      <td>16.281020</td>\n",
       "      <td>399.000000</td>\n",
       "      <td>68.119000</td>\n",
       "      <td>0.090763</td>\n",
       "      <td>240.291967</td>\n",
       "      <td>3.158620</td>\n",
       "    </tr>\n",
       "  </tbody>\n",
       "</table>\n",
       "</div>"
      ],
      "text/plain": [
       "        NewVolSales  Base_Price       Radio     InStore    Discount  \\\n",
       "count    104.000000  104.000000  104.000000  104.000000  104.000000   \n",
       "mean   20171.067308   15.306740  257.528846   32.918567    0.022059   \n",
       "std     1578.604670    0.528902   85.392805   13.682570    0.027668   \n",
       "min    17431.000000   13.735724    0.000000   10.782000    0.000000   \n",
       "25%    19048.750000   15.029276  235.750000   22.183750    0.000000   \n",
       "50%    19943.500000   15.332887  278.500000   31.161500    0.000000   \n",
       "75%    20942.750000   15.642632  312.250000   41.079000    0.049423   \n",
       "max    24944.000000   16.281020  399.000000   68.119000    0.090763   \n",
       "\n",
       "               TV       Stout  \n",
       "count  104.000000  104.000000  \n",
       "mean   141.009774    2.545966  \n",
       "std     42.949231    0.310070  \n",
       "min     37.656174    1.818600  \n",
       "25%    117.108343    2.316450  \n",
       "50%    138.581542    2.502120  \n",
       "75%    175.681780    2.814315  \n",
       "max    240.291967    3.158620  "
      ]
     },
     "execution_count": 22,
     "metadata": {},
     "output_type": "execute_result"
    }
   ],
   "source": [
    "data.describe()"
   ]
  },
  {
   "cell_type": "code",
   "execution_count": 23,
   "id": "a4021242",
   "metadata": {
    "execution": {
     "iopub.execute_input": "2021-07-04T19:49:08.702903Z",
     "iopub.status.busy": "2021-07-04T19:49:08.701942Z",
     "iopub.status.idle": "2021-07-04T19:49:08.705296Z",
     "shell.execute_reply": "2021-07-04T19:49:08.704759Z",
     "shell.execute_reply.started": "2021-07-04T11:10:53.308510Z"
    },
    "id": "A9J321LCL7vT",
    "papermill": {
     "duration": 0.082965,
     "end_time": "2021-07-04T19:49:08.705435",
     "exception": false,
     "start_time": "2021-07-04T19:49:08.622470",
     "status": "completed"
    },
    "tags": []
   },
   "outputs": [],
   "source": [
    "#Visulations"
   ]
  },
  {
   "cell_type": "code",
   "execution_count": 24,
   "id": "7e02cbca",
   "metadata": {
    "execution": {
     "iopub.execute_input": "2021-07-04T19:49:08.871546Z",
     "iopub.status.busy": "2021-07-04T19:49:08.867334Z",
     "iopub.status.idle": "2021-07-04T19:49:09.237308Z",
     "shell.execute_reply": "2021-07-04T19:49:09.237815Z",
     "shell.execute_reply.started": "2021-07-04T11:10:53.314312Z"
    },
    "id": "wHmVPKLQL7vU",
    "outputId": "e774b299-3a6c-4d6b-d0cc-110c8e12b7fc",
    "papermill": {
     "duration": 0.458981,
     "end_time": "2021-07-04T19:49:09.238024",
     "exception": false,
     "start_time": "2021-07-04T19:49:08.779043",
     "status": "completed"
    },
    "tags": []
   },
   "outputs": [
    {
     "data": {
      "image/png": "[encoded data removed]",
      "text/plain": [
       "<Figure size 432x432 with 1 Axes>"
      ]
     },
     "metadata": {
      "needs_background": "light"
     },
     "output_type": "display_data"
    }
   ],
   "source": [
    "plt.figure(figsize=(6,6))\n",
    "sns.scatterplot(x=data['Base_Price'],y=data['NewVolSales'],hue=data['NewVolSales'])\n",
    "plt.xlabel('Base_Price')\n",
    "plt.ylabel('NewVolSales')\n",
    "plt.show()"
   ]
  },
  {
   "cell_type": "code",
   "execution_count": 25,
   "id": "039e98a9",
   "metadata": {
    "execution": {
     "iopub.execute_input": "2021-07-04T19:49:09.405779Z",
     "iopub.status.busy": "2021-07-04T19:49:09.402736Z",
     "iopub.status.idle": "2021-07-04T19:49:09.834051Z",
     "shell.execute_reply": "2021-07-04T19:49:09.833480Z",
     "shell.execute_reply.started": "2021-07-04T11:10:53.705767Z"
    },
    "id": "Q5W3uLJ-L7vU",
    "outputId": "dd0281db-d961-4ed5-ad73-7cac878049fa",
    "papermill": {
     "duration": 0.520851,
     "end_time": "2021-07-04T19:49:09.834194",
     "exception": false,
     "start_time": "2021-07-04T19:49:09.313343",
     "status": "completed"
    },
    "tags": []
   },
   "outputs": [
    {
     "data": {
      "image/png": "[encoded data removed]",
      "text/plain": [
       "<Figure size 432x432 with 1 Axes>"
      ]
     },
     "metadata": {
      "needs_background": "light"
     },
     "output_type": "display_data"
    }
   ],
   "source": [
    "plt.figure(figsize=(6,6))\n",
    "sns.scatterplot(x=data['Radio'],y=data['NewVolSales'],hue=data['NewVolSales'])\n",
    "plt.xlabel('Radio')\n",
    "plt.ylabel('NewVolSales')\n",
    "plt.show()"
   ]
  },
  {
   "cell_type": "code",
   "execution_count": 26,
   "id": "0c71a1ee",
   "metadata": {
    "execution": {
     "iopub.execute_input": "2021-07-04T19:49:10.002651Z",
     "iopub.status.busy": "2021-07-04T19:49:09.998789Z",
     "iopub.status.idle": "2021-07-04T19:49:10.295140Z",
     "shell.execute_reply": "2021-07-04T19:49:10.294401Z",
     "shell.execute_reply.started": "2021-07-04T11:10:54.133681Z"
    },
    "id": "tHF1KkoBL7vU",
    "outputId": "362d212e-82b0-409b-9668-a3e88b573662",
    "papermill": {
     "duration": 0.384902,
     "end_time": "2021-07-04T19:49:10.295298",
     "exception": false,
     "start_time": "2021-07-04T19:49:09.910396",
     "status": "completed"
    },
    "tags": []
   },
   "outputs": [
    {
     "data": {
      "image/png": "[encoded data removed]",
      "text/plain": [
       "<Figure size 432x432 with 1 Axes>"
      ]
     },
     "metadata": {
      "needs_background": "light"
     },
     "output_type": "display_data"
    }
   ],
   "source": [
    "plt.figure(figsize=(6,6))\n",
    "sns.scatterplot(x=data['Discount'],y=data['NewVolSales'],hue=data['NewVolSales'])\n",
    "plt.xlabel('Discount')\n",
    "plt.ylabel('NewVolSales')\n",
    "plt.show()"
   ]
  },
  {
   "cell_type": "code",
   "execution_count": 27,
   "id": "8cdfe412",
   "metadata": {
    "execution": {
     "iopub.execute_input": "2021-07-04T19:49:10.503547Z",
     "iopub.status.busy": "2021-07-04T19:49:10.477415Z",
     "iopub.status.idle": "2021-07-04T19:49:11.277650Z",
     "shell.execute_reply": "2021-07-04T19:49:11.276906Z",
     "shell.execute_reply.started": "2021-07-04T11:10:54.425141Z"
    },
    "id": "3097E0PjL7vV",
    "outputId": "821803f4-c74a-4d65-d5fe-6176ba70c1ca",
    "papermill": {
     "duration": 0.9047,
     "end_time": "2021-07-04T19:49:11.277827",
     "exception": false,
     "start_time": "2021-07-04T19:49:10.373127",
     "status": "completed"
    },
    "tags": []
   },
   "outputs": [
    {
     "data": {
      "text/plain": [
       "<function matplotlib.pyplot.show(close=None, block=None)>"
      ]
     },
     "execution_count": 27,
     "metadata": {},
     "output_type": "execute_result"
    },
    {
     "data": {
      "text/plain": [
       "<Figure size 360x360 with 0 Axes>"
      ]
     },
     "metadata": {},
     "output_type": "display_data"
    },
    {
     "data": {
      "image/png": "[encoded data removed]",
      "text/plain": [
       "<Figure size 720x720 with 4 Axes>"
      ]
     },
     "metadata": {
      "needs_background": "light"
     },
     "output_type": "display_data"
    }
   ],
   "source": [
    "corr_matrix = data.corr()\n",
    "plt.figure(figsize=(5,5))\n",
    "sns.clustermap(corr_matrix, annot = True, fmt = \".2f\")\n",
    "plt.title(\"Correlation between columns\")\n",
    "plt.show"
   ]
  },
  {
   "cell_type": "code",
   "execution_count": 28,
   "id": "58f16e68",
   "metadata": {
    "execution": {
     "iopub.execute_input": "2021-07-04T19:49:11.441983Z",
     "iopub.status.busy": "2021-07-04T19:49:11.441290Z",
     "iopub.status.idle": "2021-07-04T19:49:11.443934Z",
     "shell.execute_reply": "2021-07-04T19:49:11.443336Z",
     "shell.execute_reply.started": "2021-07-04T11:10:55.214511Z"
    },
    "id": "5UIlVA5_L7vV",
    "papermill": {
     "duration": 0.086624,
     "end_time": "2021-07-04T19:49:11.444077",
     "exception": false,
     "start_time": "2021-07-04T19:49:11.357453",
     "status": "completed"
    },
    "tags": []
   },
   "outputs": [],
   "source": [
    "# Editing categorical variables"
   ]
  },
  {
   "cell_type": "code",
   "execution_count": 29,
   "id": "74028dc3",
   "metadata": {
    "execution": {
     "iopub.execute_input": "2021-07-04T19:49:11.606399Z",
     "iopub.status.busy": "2021-07-04T19:49:11.605610Z",
     "iopub.status.idle": "2021-07-04T19:49:11.616878Z",
     "shell.execute_reply": "2021-07-04T19:49:11.616317Z",
     "shell.execute_reply.started": "2021-07-04T11:10:55.221406Z"
    },
    "id": "IXxUlnMdL7vW",
    "papermill": {
     "duration": 0.093561,
     "end_time": "2021-07-04T19:49:11.617032",
     "exception": false,
     "start_time": "2021-07-04T19:49:11.523471",
     "status": "completed"
    },
    "tags": []
   },
   "outputs": [],
   "source": [
    "cat_col = [\"Web\",\"NewspaperInserts\"]\n",
    "data = pd.get_dummies(data, columns = cat_col)"
   ]
  },
  {
   "cell_type": "code",
   "execution_count": 30,
   "id": "13c6d278",
   "metadata": {
    "execution": {
     "iopub.execute_input": "2021-07-04T19:49:11.780415Z",
     "iopub.status.busy": "2021-07-04T19:49:11.779754Z",
     "iopub.status.idle": "2021-07-04T19:49:11.785314Z",
     "shell.execute_reply": "2021-07-04T19:49:11.785904Z",
     "shell.execute_reply.started": "2021-07-04T11:10:55.250876Z"
    },
    "id": "i5d_Hg6rL7vW",
    "papermill": {
     "duration": 0.088923,
     "end_time": "2021-07-04T19:49:11.786115",
     "exception": false,
     "start_time": "2021-07-04T19:49:11.697192",
     "status": "completed"
    },
    "tags": []
   },
   "outputs": [],
   "source": [
    "data = data.drop([\"Web_other\",\"NewspaperInserts_other\"], axis = 1)"
   ]
  },
  {
   "cell_type": "code",
   "execution_count": 31,
   "id": "cd27e072",
   "metadata": {
    "execution": {
     "iopub.execute_input": "2021-07-04T19:49:11.951360Z",
     "iopub.status.busy": "2021-07-04T19:49:11.950551Z",
     "iopub.status.idle": "2021-07-04T19:49:11.966158Z",
     "shell.execute_reply": "2021-07-04T19:49:11.965451Z",
     "shell.execute_reply.started": "2021-07-04T11:10:55.261295Z"
    },
    "id": "vJjwy0M6L7vW",
    "outputId": "99812a57-6824-4db5-f00f-887ba8fdba3d",
    "papermill": {
     "duration": 0.09982,
     "end_time": "2021-07-04T19:49:11.966308",
     "exception": false,
     "start_time": "2021-07-04T19:49:11.866488",
     "status": "completed"
    },
    "tags": []
   },
   "outputs": [
    {
     "name": "stdout",
     "output_type": "stream",
     "text": [
      "<class 'pandas.core.frame.DataFrame'>\n",
      "RangeIndex: 104 entries, 0 to 103\n",
      "Data columns (total 11 columns):\n",
      " #   Column                   Non-Null Count  Dtype  \n",
      "---  ------                   --------------  -----  \n",
      " 0   NewVolSales              104 non-null    int64  \n",
      " 1   Base_Price               104 non-null    float64\n",
      " 2   Radio                    104 non-null    float64\n",
      " 3   InStore                  104 non-null    float64\n",
      " 4   Discount                 104 non-null    float64\n",
      " 5   TV                       104 non-null    float64\n",
      " 6   Stout                    104 non-null    float64\n",
      " 7   Web_Facebook             104 non-null    uint8  \n",
      " 8   Web_Twitter              104 non-null    uint8  \n",
      " 9   Web_Website Campaign     104 non-null    uint8  \n",
      " 10  NewspaperInserts_Insert  104 non-null    uint8  \n",
      "dtypes: float64(6), int64(1), uint8(4)\n",
      "memory usage: 6.2 KB\n"
     ]
    }
   ],
   "source": [
    "data.info()"
   ]
  },
  {
   "cell_type": "code",
   "execution_count": 32,
   "id": "1674ab14",
   "metadata": {
    "execution": {
     "iopub.execute_input": "2021-07-04T19:49:12.149131Z",
     "iopub.status.busy": "2021-07-04T19:49:12.148138Z",
     "iopub.status.idle": "2021-07-04T19:49:12.152750Z",
     "shell.execute_reply": "2021-07-04T19:49:12.152211Z",
     "shell.execute_reply.started": "2021-07-04T11:10:55.287591Z"
    },
    "id": "8ZxyLQFqL7vW",
    "outputId": "8db09ac4-5d62-4eeb-d125-a458b606b09e",
    "papermill": {
     "duration": 0.102425,
     "end_time": "2021-07-04T19:49:12.152893",
     "exception": false,
     "start_time": "2021-07-04T19:49:12.050468",
     "status": "completed"
    },
    "tags": []
   },
   "outputs": [
    {
     "data": {
      "text/html": [
       "<div>\n",
       "<style scoped>\n",
       "    .dataframe tbody tr th:only-of-type {\n",
       "        vertical-align: middle;\n",
       "    }\n",
       "\n",
       "    .dataframe tbody tr th {\n",
       "        vertical-align: top;\n",
       "    }\n",
       "\n",
       "    .dataframe thead th {\n",
       "        text-align: right;\n",
       "    }\n",
       "</style>\n",
       "<table border=\"1\" class=\"dataframe\">\n",
       "  <thead>\n",
       "    <tr style=\"text-align: right;\">\n",
       "      <th></th>\n",
       "      <th>NewVolSales</th>\n",
       "      <th>Base_Price</th>\n",
       "      <th>Radio</th>\n",
       "      <th>InStore</th>\n",
       "      <th>Discount</th>\n",
       "      <th>TV</th>\n",
       "      <th>Stout</th>\n",
       "      <th>Web_Facebook</th>\n",
       "      <th>Web_Twitter</th>\n",
       "      <th>Web_Website Campaign</th>\n",
       "      <th>NewspaperInserts_Insert</th>\n",
       "    </tr>\n",
       "  </thead>\n",
       "  <tbody>\n",
       "    <tr>\n",
       "      <th>0</th>\n",
       "      <td>19564</td>\n",
       "      <td>15.029276</td>\n",
       "      <td>245.0</td>\n",
       "      <td>15.452</td>\n",
       "      <td>0.000</td>\n",
       "      <td>101.780000</td>\n",
       "      <td>2.28342</td>\n",
       "      <td>0</td>\n",
       "      <td>0</td>\n",
       "      <td>0</td>\n",
       "      <td>0</td>\n",
       "    </tr>\n",
       "    <tr>\n",
       "      <th>1</th>\n",
       "      <td>19387</td>\n",
       "      <td>15.029276</td>\n",
       "      <td>314.0</td>\n",
       "      <td>16.388</td>\n",
       "      <td>0.000</td>\n",
       "      <td>76.734000</td>\n",
       "      <td>2.22134</td>\n",
       "      <td>0</td>\n",
       "      <td>0</td>\n",
       "      <td>0</td>\n",
       "      <td>0</td>\n",
       "    </tr>\n",
       "    <tr>\n",
       "      <th>2</th>\n",
       "      <td>23889</td>\n",
       "      <td>14.585093</td>\n",
       "      <td>324.0</td>\n",
       "      <td>62.692</td>\n",
       "      <td>0.050</td>\n",
       "      <td>131.590200</td>\n",
       "      <td>2.00604</td>\n",
       "      <td>0</td>\n",
       "      <td>0</td>\n",
       "      <td>0</td>\n",
       "      <td>0</td>\n",
       "    </tr>\n",
       "    <tr>\n",
       "      <th>3</th>\n",
       "      <td>20055</td>\n",
       "      <td>15.332887</td>\n",
       "      <td>298.0</td>\n",
       "      <td>16.573</td>\n",
       "      <td>0.000</td>\n",
       "      <td>119.627060</td>\n",
       "      <td>2.19897</td>\n",
       "      <td>0</td>\n",
       "      <td>0</td>\n",
       "      <td>0</td>\n",
       "      <td>0</td>\n",
       "    </tr>\n",
       "    <tr>\n",
       "      <th>4</th>\n",
       "      <td>20064</td>\n",
       "      <td>15.642632</td>\n",
       "      <td>279.0</td>\n",
       "      <td>41.504</td>\n",
       "      <td>0.045</td>\n",
       "      <td>103.438118</td>\n",
       "      <td>1.81860</td>\n",
       "      <td>0</td>\n",
       "      <td>0</td>\n",
       "      <td>0</td>\n",
       "      <td>0</td>\n",
       "    </tr>\n",
       "  </tbody>\n",
       "</table>\n",
       "</div>"
      ],
      "text/plain": [
       "   NewVolSales  Base_Price  Radio  InStore  Discount          TV    Stout  \\\n",
       "0        19564   15.029276  245.0   15.452     0.000  101.780000  2.28342   \n",
       "1        19387   15.029276  314.0   16.388     0.000   76.734000  2.22134   \n",
       "2        23889   14.585093  324.0   62.692     0.050  131.590200  2.00604   \n",
       "3        20055   15.332887  298.0   16.573     0.000  119.627060  2.19897   \n",
       "4        20064   15.642632  279.0   41.504     0.045  103.438118  1.81860   \n",
       "\n",
       "   Web_Facebook  Web_Twitter  Web_Website Campaign   NewspaperInserts_Insert  \n",
       "0             0            0                      0                        0  \n",
       "1             0            0                      0                        0  \n",
       "2             0            0                      0                        0  \n",
       "3             0            0                      0                        0  \n",
       "4             0            0                      0                        0  "
      ]
     },
     "execution_count": 32,
     "metadata": {},
     "output_type": "execute_result"
    }
   ],
   "source": [
    "data.head()"
   ]
  },
  {
   "cell_type": "code",
   "execution_count": 33,
   "id": "62bd234e",
   "metadata": {
    "execution": {
     "iopub.execute_input": "2021-07-04T19:49:12.319338Z",
     "iopub.status.busy": "2021-07-04T19:49:12.318562Z",
     "iopub.status.idle": "2021-07-04T19:49:12.322447Z",
     "shell.execute_reply": "2021-07-04T19:49:12.321798Z",
     "shell.execute_reply.started": "2021-07-04T11:10:55.306037Z"
    },
    "id": "lJQwsIQgL7vX",
    "papermill": {
     "duration": 0.087866,
     "end_time": "2021-07-04T19:49:12.322586",
     "exception": false,
     "start_time": "2021-07-04T19:49:12.234720",
     "status": "completed"
    },
    "tags": []
   },
   "outputs": [],
   "source": [
    "# Handling outliers "
   ]
  },
  {
   "cell_type": "code",
   "execution_count": 34,
   "id": "e735edb8",
   "metadata": {
    "execution": {
     "iopub.execute_input": "2021-07-04T19:49:12.495975Z",
     "iopub.status.busy": "2021-07-04T19:49:12.495115Z",
     "iopub.status.idle": "2021-07-04T19:49:12.498512Z",
     "shell.execute_reply": "2021-07-04T19:49:12.497956Z",
     "shell.execute_reply.started": "2021-07-04T11:10:55.320538Z"
    },
    "id": "LEjUhhH8L7vX",
    "papermill": {
     "duration": 0.089499,
     "end_time": "2021-07-04T19:49:12.498666",
     "exception": false,
     "start_time": "2021-07-04T19:49:12.409167",
     "status": "completed"
    },
    "tags": []
   },
   "outputs": [],
   "source": [
    "chechk_outliers = [\"Base_Price\",\"Radio\",\"InStore\",\"Discount\",\"TV\",\"Stout\"]"
   ]
  },
  {
   "cell_type": "code",
   "execution_count": 35,
   "id": "ef342c65",
   "metadata": {
    "execution": {
     "iopub.execute_input": "2021-07-04T19:49:12.665765Z",
     "iopub.status.busy": "2021-07-04T19:49:12.664721Z",
     "iopub.status.idle": "2021-07-04T19:49:13.397330Z",
     "shell.execute_reply": "2021-07-04T19:49:13.396656Z",
     "shell.execute_reply.started": "2021-07-04T11:10:55.338219Z"
    },
    "id": "qai6hMx2L7vX",
    "outputId": "6cb3560a-39f0-442f-8662-9d76c21c27a8",
    "papermill": {
     "duration": 0.817182,
     "end_time": "2021-07-04T19:49:13.397474",
     "exception": false,
     "start_time": "2021-07-04T19:49:12.580292",
     "status": "completed"
    },
    "tags": []
   },
   "outputs": [
    {
     "data": {
      "image/png": "[encoded data removed]",
      "text/plain": [
       "<Figure size 432x288 with 1 Axes>"
      ]
     },
     "metadata": {
      "needs_background": "light"
     },
     "output_type": "display_data"
    },
    {
     "data": {
      "image/png": "[encoded data removed]",
      "text/plain": [
       "<Figure size 432x288 with 1 Axes>"
      ]
     },
     "metadata": {
      "needs_background": "light"
     },
     "output_type": "display_data"
    },
    {
     "data": {
      "image/png": "[encoded data removed]",
      "text/plain": [
       "<Figure size 432x288 with 1 Axes>"
      ]
     },
     "metadata": {
      "needs_background": "light"
     },
     "output_type": "display_data"
    },
    {
     "data": {
      "image/png": "[encoded data removed]",
      "text/plain": [
       "<Figure size 432x288 with 1 Axes>"
      ]
     },
     "metadata": {
      "needs_background": "light"
     },
     "output_type": "display_data"
    },
    {
     "data": {
      "image/png": "[encoded data removed]",
      "text/plain": [
       "<Figure size 432x288 with 1 Axes>"
      ]
     },
     "metadata": {
      "needs_background": "light"
     },
     "output_type": "display_data"
    },
    {
     "data": {
      "image/png": "[encoded data removed]",
      "text/plain": [
       "<Figure size 432x288 with 1 Axes>"
      ]
     },
     "metadata": {
      "needs_background": "light"
     },
     "output_type": "display_data"
    }
   ],
   "source": [
    "for c in chechk_outliers:\n",
    "    plt.figure()\n",
    "    sns.boxplot(x = c, data = data, orient = \"v\")"
   ]
  },
  {
   "cell_type": "code",
   "execution_count": 36,
   "id": "1f92ce35",
   "metadata": {
    "execution": {
     "iopub.execute_input": "2021-07-04T19:49:13.572261Z",
     "iopub.status.busy": "2021-07-04T19:49:13.571252Z",
     "iopub.status.idle": "2021-07-04T19:49:13.574658Z",
     "shell.execute_reply": "2021-07-04T19:49:13.574124Z",
     "shell.execute_reply.started": "2021-07-04T11:10:56.050784Z"
    },
    "id": "xLlT7l4lL7vX",
    "papermill": {
     "duration": 0.091701,
     "end_time": "2021-07-04T19:49:13.574817",
     "exception": false,
     "start_time": "2021-07-04T19:49:13.483116",
     "status": "completed"
    },
    "tags": []
   },
   "outputs": [],
   "source": [
    "# #"
   ]
  },
  {
   "cell_type": "code",
   "execution_count": 37,
   "id": "8d558256",
   "metadata": {
    "execution": {
     "iopub.execute_input": "2021-07-04T19:49:13.747512Z",
     "iopub.status.busy": "2021-07-04T19:49:13.746572Z",
     "iopub.status.idle": "2021-07-04T19:49:13.750108Z",
     "shell.execute_reply": "2021-07-04T19:49:13.749505Z",
     "shell.execute_reply.started": "2021-07-04T11:10:56.056525Z"
    },
    "id": "nSI8T_ZcL7vY",
    "papermill": {
     "duration": 0.091613,
     "end_time": "2021-07-04T19:49:13.750251",
     "exception": false,
     "start_time": "2021-07-04T19:49:13.658638",
     "status": "completed"
    },
    "tags": []
   },
   "outputs": [],
   "source": [
    "outliers = [\"Radio\",\"Base_Price\"]"
   ]
  },
  {
   "cell_type": "code",
   "execution_count": 38,
   "id": "60b14a4f",
   "metadata": {
    "execution": {
     "iopub.execute_input": "2021-07-04T19:49:13.926384Z",
     "iopub.status.busy": "2021-07-04T19:49:13.925707Z",
     "iopub.status.idle": "2021-07-04T19:49:13.928869Z",
     "shell.execute_reply": "2021-07-04T19:49:13.928323Z",
     "shell.execute_reply.started": "2021-07-04T11:10:56.069424Z"
    },
    "id": "nAGc2_5IL7vY",
    "papermill": {
     "duration": 0.094367,
     "end_time": "2021-07-04T19:49:13.929013",
     "exception": false,
     "start_time": "2021-07-04T19:49:13.834646",
     "status": "completed"
    },
    "tags": []
   },
   "outputs": [],
   "source": [
    "def treat_outlier(x):\n",
    "    q5 = np.percentile(x,5)\n",
    "    q25= np.percentile(x,25)\n",
    "    q75= np.percentile(x,75)\n",
    "    up_trend=np.percentile(x,95)\n",
    "    IQR = q75-q25\n",
    "    low_level = q25-(1.5*IQR)\n",
    "    up_level = q75+(1.5*IQR)\n",
    "    \n",
    "    return x.apply(lambda y: up_trend if y> up_level else y).apply(lambda y: q5 if y < low_level else y)"
   ]
  },
  {
   "cell_type": "code",
   "execution_count": 39,
   "id": "b9a346dc",
   "metadata": {
    "execution": {
     "iopub.execute_input": "2021-07-04T19:49:14.103692Z",
     "iopub.status.busy": "2021-07-04T19:49:14.102984Z",
     "iopub.status.idle": "2021-07-04T19:49:14.109307Z",
     "shell.execute_reply": "2021-07-04T19:49:14.109835Z",
     "shell.execute_reply.started": "2021-07-04T11:10:56.081513Z"
    },
    "id": "tbUliL5tL7vY",
    "papermill": {
     "duration": 0.09629,
     "end_time": "2021-07-04T19:49:14.110014",
     "exception": false,
     "start_time": "2021-07-04T19:49:14.013724",
     "status": "completed"
    },
    "tags": []
   },
   "outputs": [],
   "source": [
    "for i in data[outliers]:\n",
    "    data[i]=treat_outlier(data[i])"
   ]
  },
  {
   "cell_type": "code",
   "execution_count": 40,
   "id": "c571a4f5",
   "metadata": {
    "execution": {
     "iopub.execute_input": "2021-07-04T19:49:14.281627Z",
     "iopub.status.busy": "2021-07-04T19:49:14.280956Z",
     "iopub.status.idle": "2021-07-04T19:49:14.284465Z",
     "shell.execute_reply": "2021-07-04T19:49:14.285175Z",
     "shell.execute_reply.started": "2021-07-04T11:10:56.098868Z"
    },
    "id": "EdePvGenL7vY",
    "papermill": {
     "duration": 0.091428,
     "end_time": "2021-07-04T19:49:14.285384",
     "exception": false,
     "start_time": "2021-07-04T19:49:14.193956",
     "status": "completed"
    },
    "tags": []
   },
   "outputs": [],
   "source": [
    "# Modelling "
   ]
  },
  {
   "cell_type": "code",
   "execution_count": 41,
   "id": "95b361d3",
   "metadata": {
    "execution": {
     "iopub.execute_input": "2021-07-04T19:49:14.458289Z",
     "iopub.status.busy": "2021-07-04T19:49:14.457536Z",
     "iopub.status.idle": "2021-07-04T19:49:14.464177Z",
     "shell.execute_reply": "2021-07-04T19:49:14.463555Z",
     "shell.execute_reply.started": "2021-07-04T11:10:56.107960Z"
    },
    "id": "v1PaUJQmL7vY",
    "papermill": {
     "duration": 0.095124,
     "end_time": "2021-07-04T19:49:14.464324",
     "exception": false,
     "start_time": "2021-07-04T19:49:14.369200",
     "status": "completed"
    },
    "tags": []
   },
   "outputs": [],
   "source": [
    "x = data.drop([\"NewVolSales\"],axis = 1)\n",
    "y = data.NewVolSales"
   ]
  },
  {
   "cell_type": "code",
   "execution_count": 42,
   "id": "81e8b49f",
   "metadata": {
    "execution": {
     "iopub.execute_input": "2021-07-04T19:49:14.639915Z",
     "iopub.status.busy": "2021-07-04T19:49:14.639272Z",
     "iopub.status.idle": "2021-07-04T19:49:14.642383Z",
     "shell.execute_reply": "2021-07-04T19:49:14.641902Z",
     "shell.execute_reply.started": "2021-07-04T11:10:56.121899Z"
    },
    "id": "DUXGhK6kL7vZ",
    "papermill": {
     "duration": 0.093603,
     "end_time": "2021-07-04T19:49:14.642527",
     "exception": false,
     "start_time": "2021-07-04T19:49:14.548924",
     "status": "completed"
    },
    "tags": []
   },
   "outputs": [],
   "source": [
    "x_train, x_test, y_train, y_test = train_test_split(x,y, test_size = 0.20, random_state = 0)"
   ]
  },
  {
   "cell_type": "code",
   "execution_count": 43,
   "id": "f7ba2bc8",
   "metadata": {
    "execution": {
     "iopub.execute_input": "2021-07-04T19:49:14.820941Z",
     "iopub.status.busy": "2021-07-04T19:49:14.817845Z",
     "iopub.status.idle": "2021-07-04T19:49:14.827063Z",
     "shell.execute_reply": "2021-07-04T19:49:14.826390Z",
     "shell.execute_reply.started": "2021-07-04T11:10:56.132725Z"
    },
    "id": "BLskROo6L7vZ",
    "papermill": {
     "duration": 0.100355,
     "end_time": "2021-07-04T19:49:14.827223",
     "exception": false,
     "start_time": "2021-07-04T19:49:14.726868",
     "status": "completed"
    },
    "tags": []
   },
   "outputs": [],
   "source": [
    "scaler = StandardScaler()\n",
    "x_train = scaler.fit_transform(x_train)\n",
    "x_test = scaler.transform(x_test)"
   ]
  },
  {
   "cell_type": "code",
   "execution_count": 44,
   "id": "2e46b191",
   "metadata": {
    "execution": {
     "iopub.execute_input": "2021-07-04T19:49:15.004171Z",
     "iopub.status.busy": "2021-07-04T19:49:15.003387Z",
     "iopub.status.idle": "2021-07-04T19:49:15.007062Z",
     "shell.execute_reply": "2021-07-04T19:49:15.006331Z",
     "shell.execute_reply.started": "2021-07-04T11:10:56.153881Z"
    },
    "id": "RZULrkSNL7vZ",
    "papermill": {
     "duration": 0.09534,
     "end_time": "2021-07-04T19:49:15.007221",
     "exception": false,
     "start_time": "2021-07-04T19:49:14.911881",
     "status": "completed"
    },
    "tags": []
   },
   "outputs": [],
   "source": [
    "x_train = pd.DataFrame(x_train)\n",
    "x_test = pd.DataFrame(x_test)\n",
    "x_train.columns = x.columns\n",
    "x_test.columns = x.columns"
   ]
  },
  {
   "cell_type": "code",
   "execution_count": 45,
   "id": "0476cc90",
   "metadata": {
    "execution": {
     "iopub.execute_input": "2021-07-04T19:49:15.186337Z",
     "iopub.status.busy": "2021-07-04T19:49:15.185616Z",
     "iopub.status.idle": "2021-07-04T19:49:15.189063Z",
     "shell.execute_reply": "2021-07-04T19:49:15.188538Z",
     "shell.execute_reply.started": "2021-07-04T11:10:56.161249Z"
    },
    "id": "G39IaczzL7va",
    "papermill": {
     "duration": 0.095925,
     "end_time": "2021-07-04T19:49:15.189211",
     "exception": false,
     "start_time": "2021-07-04T19:49:15.093286",
     "status": "completed"
    },
    "tags": []
   },
   "outputs": [],
   "source": [
    "svr = SVR(kernel = \"rbf\")\n",
    "ada = AdaBoostRegressor()\n",
    "xgb = XGBRegressor()\n",
    "rfr = RandomForestRegressor()\n",
    "dtr = DecisionTreeRegressor()\n",
    "gbr = GradientBoostingRegressor()\n",
    "knn = neighbors.KNeighborsRegressor()\n",
    "mlp = MLPRegressor()\n",
    "names = [\"SVR\",\"AdaBoostRegressor\",\"XGBRegressor\",\"RandomForestRegressor\",\"DecisionTreeRegressor\",\n",
    "        \"GradientBoostingRegressor\",\"KNeighborsRegressor\",\"MLPRegressor\"]\n",
    "models = [svr, ada, xgb, rfr, dtr, gbr, knn, mlp]"
   ]
  },
  {
   "cell_type": "code",
   "execution_count": 46,
   "id": "b08420fc",
   "metadata": {
    "execution": {
     "iopub.execute_input": "2021-07-04T19:49:15.372611Z",
     "iopub.status.busy": "2021-07-04T19:49:15.371454Z",
     "iopub.status.idle": "2021-07-04T19:49:15.974896Z",
     "shell.execute_reply": "2021-07-04T19:49:15.975402Z",
     "shell.execute_reply.started": "2021-07-04T11:10:56.174323Z"
    },
    "id": "JIHA8rK7L7va",
    "outputId": "beb96610-d781-47e5-a89c-d0a45f9af0de",
    "papermill": {
     "duration": 0.700188,
     "end_time": "2021-07-04T19:49:15.975605",
     "exception": false,
     "start_time": "2021-07-04T19:49:15.275417",
     "status": "completed"
    },
    "tags": []
   },
   "outputs": [
    {
     "name": "stdout",
     "output_type": "stream",
     "text": [
      "SVR: mse score: 4514270.289287768\n",
      "SVR: r2 score: -0.2136858147814782\n",
      "SVR: mea score: 1618.370475607868\n",
      "SVR: mape :7.424368875771746\n",
      "\n",
      "\n",
      "AdaBoostRegressor: mse score: 939954.7293868606\n",
      "AdaBoostRegressor: r2 score: 0.7472881222241602\n",
      "AdaBoostRegressor: mea score: 708.6971714055924\n",
      "AdaBoostRegressor: mape :3.379513495152125\n",
      "\n",
      "\n",
      "XGBRegressor: mse score: 627235.2510486784\n",
      "XGBRegressor: r2 score: 0.8313644336859617\n",
      "XGBRegressor: mea score: 644.0278087797619\n",
      "XGBRegressor: mape :3.1085794442745307\n",
      "\n",
      "\n",
      "RandomForestRegressor: mse score: 665256.6959095246\n",
      "RandomForestRegressor: r2 score: 0.8211421640104821\n",
      "RandomForestRegressor: mea score: 639.4157142857144\n",
      "RandomForestRegressor: mape :3.0486571742272255\n",
      "\n",
      "\n",
      "DecisionTreeRegressor: mse score: 1132644.6666666667\n",
      "DecisionTreeRegressor: r2 score: 0.6954823975907486\n",
      "DecisionTreeRegressor: mea score: 842.6666666666666\n",
      "DecisionTreeRegressor: mape :3.987933427322016\n",
      "\n",
      "\n",
      "GradientBoostingRegressor: mse score: 699449.7349224861\n",
      "GradientBoostingRegressor: r2 score: 0.8119491818107281\n",
      "GradientBoostingRegressor: mea score: 676.7031066525025\n",
      "GradientBoostingRegressor: mape :3.240834204744781\n",
      "\n",
      "\n",
      "KNeighborsRegressor: mse score: 1161569.4571428578\n",
      "KNeighborsRegressor: r2 score: 0.6877058123074562\n",
      "KNeighborsRegressor: mea score: 856.3904761904764\n",
      "KNeighborsRegressor: mape :4.004162246092586\n",
      "\n",
      "\n",
      "MLPRegressor: mse score: 434663690.27926546\n",
      "MLPRegressor: r2 score: -115.8616678412818\n",
      "MLPRegressor: mea score: 20759.45791338651\n",
      "MLPRegressor: mape :99.93058458259519\n",
      "\n",
      "\n"
     ]
    }
   ],
   "source": [
    "for name, clf in zip(names, models):\n",
    "        clf.fit(x_train, y_train)\n",
    "        y_pred = clf.predict(x_test)\n",
    "        mse = mean_squared_error(y_test, y_pred) \n",
    "        print(\"{}: mse score: {}\".format(name, mse))\n",
    "        r2 = r2_score(y_test, y_pred)\n",
    "        print(\"{}: r2 score: {}\".format(name, r2))\n",
    "        mae = mean_absolute_error(y_test, y_pred)\n",
    "        print(\"{}: mea score: {}\".format(name, mae))\n",
    "        mape = np.mean(abs((y_pred-y_test)/y_test))*100\n",
    "        print(\"{}: mape :{}\".format(name,mape))\n",
    "        print(\"\\n\")"
   ]
  },
  {
   "cell_type": "code",
   "execution_count": 47,
   "id": "ccd095fe",
   "metadata": {
    "execution": {
     "iopub.execute_input": "2021-07-04T19:49:16.157194Z",
     "iopub.status.busy": "2021-07-04T19:49:16.156443Z",
     "iopub.status.idle": "2021-07-04T19:49:16.160211Z",
     "shell.execute_reply": "2021-07-04T19:49:16.159626Z",
     "shell.execute_reply.started": "2021-07-04T11:10:56.711828Z"
    },
    "id": "hUCKJBgVL7vb",
    "papermill": {
     "duration": 0.098452,
     "end_time": "2021-07-04T19:49:16.160354",
     "exception": false,
     "start_time": "2021-07-04T19:49:16.061902",
     "status": "completed"
    },
    "tags": []
   },
   "outputs": [],
   "source": [
    "poly_reg = PolynomialFeatures(degree=2)\n",
    "X_poly = poly_reg.fit_transform(x_train)"
   ]
  },
  {
   "cell_type": "code",
   "execution_count": 48,
   "id": "eef1a007",
   "metadata": {
    "execution": {
     "iopub.execute_input": "2021-07-04T19:49:16.510268Z",
     "iopub.status.busy": "2021-07-04T19:49:16.432760Z",
     "iopub.status.idle": "2021-07-04T19:49:16.513431Z",
     "shell.execute_reply": "2021-07-04T19:49:16.512880Z",
     "shell.execute_reply.started": "2021-07-04T11:10:56.722333Z"
    },
    "id": "pZ-dkuoeL7vb",
    "papermill": {
     "duration": 0.267302,
     "end_time": "2021-07-04T19:49:16.513585",
     "exception": false,
     "start_time": "2021-07-04T19:49:16.246283",
     "status": "completed"
    },
    "tags": []
   },
   "outputs": [],
   "source": [
    "lin_reg = LinearRegression()\n",
    "lin_reg = lin_reg.fit(X_poly, y_train)"
   ]
  },
  {
   "cell_type": "code",
   "execution_count": 49,
   "id": "6295bdb7",
   "metadata": {
    "execution": {
     "iopub.execute_input": "2021-07-04T19:49:16.695609Z",
     "iopub.status.busy": "2021-07-04T19:49:16.694885Z",
     "iopub.status.idle": "2021-07-04T19:49:16.697730Z",
     "shell.execute_reply": "2021-07-04T19:49:16.697059Z",
     "shell.execute_reply.started": "2021-07-04T11:10:56.947686Z"
    },
    "id": "tm-8cqYWL7vb",
    "papermill": {
     "duration": 0.099052,
     "end_time": "2021-07-04T19:49:16.697879",
     "exception": false,
     "start_time": "2021-07-04T19:49:16.598827",
     "status": "completed"
    },
    "tags": []
   },
   "outputs": [],
   "source": [
    "y_pred = lin_reg.predict(poly_reg.transform(x_test))"
   ]
  },
  {
   "cell_type": "code",
   "execution_count": 50,
   "id": "1ac26c1a",
   "metadata": {
    "execution": {
     "iopub.execute_input": "2021-07-04T19:49:16.877088Z",
     "iopub.status.busy": "2021-07-04T19:49:16.876087Z",
     "iopub.status.idle": "2021-07-04T19:49:16.880272Z",
     "shell.execute_reply": "2021-07-04T19:49:16.879610Z",
     "shell.execute_reply.started": "2021-07-04T11:10:56.963027Z"
    },
    "id": "ZKu551eaL7vc",
    "outputId": "bcc674ef-4740-4b50-8479-53530110eff5",
    "papermill": {
     "duration": 0.096567,
     "end_time": "2021-07-04T19:49:16.880413",
     "exception": false,
     "start_time": "2021-07-04T19:49:16.783846",
     "status": "completed"
    },
    "tags": []
   },
   "outputs": [
    {
     "name": "stdout",
     "output_type": "stream",
     "text": [
      "MSE score 1231044.1768676771\n",
      "r2 score 0.6690271607397771\n",
      "MAE score 870.1663344047805\n"
     ]
    }
   ],
   "source": [
    "mse = mean_squared_error(y_test, y_pred)\n",
    "print(\"MSE score\",mse)\n",
    "r2 = r2_score(y_test, y_pred)\n",
    "print(\"r2 score\",r2)\n",
    "mea = mean_absolute_error(y_test, y_pred)\n",
    "print(\"MAE score\",mea)"
   ]
  },
  {
   "cell_type": "code",
   "execution_count": 51,
   "id": "24b8b454",
   "metadata": {
    "execution": {
     "iopub.execute_input": "2021-07-04T19:49:17.059465Z",
     "iopub.status.busy": "2021-07-04T19:49:17.058799Z",
     "iopub.status.idle": "2021-07-04T19:49:17.061756Z",
     "shell.execute_reply": "2021-07-04T19:49:17.061225Z",
     "shell.execute_reply.started": "2021-07-04T11:10:56.979916Z"
    },
    "id": "hTqoQ0XhL7vc",
    "papermill": {
     "duration": 0.095158,
     "end_time": "2021-07-04T19:49:17.061901",
     "exception": false,
     "start_time": "2021-07-04T19:49:16.966743",
     "status": "completed"
    },
    "tags": []
   },
   "outputs": [],
   "source": [
    "parametresGrid_rfr = {\"max_depth\":[1,3,5,8,10],\n",
    "                 \"max_features\":[2,5,10],\n",
    "                 \"min_samples_split\":[5,10,20],\n",
    "                 \"n_estimators\":[50,100,150,200]}"
   ]
  },
  {
   "cell_type": "code",
   "execution_count": 52,
   "id": "5b1ab1d7",
   "metadata": {
    "execution": {
     "iopub.execute_input": "2021-07-04T19:49:17.239861Z",
     "iopub.status.busy": "2021-07-04T19:49:17.239137Z",
     "iopub.status.idle": "2021-07-04T19:49:17.242155Z",
     "shell.execute_reply": "2021-07-04T19:49:17.241482Z",
     "shell.execute_reply.started": "2021-07-04T11:10:56.987489Z"
    },
    "id": "dReRgWeUL7vc",
    "papermill": {
     "duration": 0.093369,
     "end_time": "2021-07-04T19:49:17.242323",
     "exception": false,
     "start_time": "2021-07-04T19:49:17.148954",
     "status": "completed"
    },
    "tags": []
   },
   "outputs": [],
   "source": [
    "rfrr = GridSearchCV(rfr, parametresGrid_rfr, cv = 10, scoring=\"neg_mean_squared_error\", refit = True,\n",
    "                  n_jobs = -1, verbose = 2)"
   ]
  },
  {
   "cell_type": "code",
   "execution_count": 53,
   "id": "6737b64f",
   "metadata": {
    "execution": {
     "iopub.execute_input": "2021-07-04T19:49:17.425410Z",
     "iopub.status.busy": "2021-07-04T19:49:17.424637Z",
     "iopub.status.idle": "2021-07-04T19:52:03.298226Z",
     "shell.execute_reply": "2021-07-04T19:52:03.297696Z",
     "shell.execute_reply.started": "2021-07-04T11:10:57.000278Z"
    },
    "id": "9LJdhFQWL7vc",
    "outputId": "2da630e0-7319-42cd-e9f3-6570272c1e65",
    "papermill": {
     "duration": 165.969762,
     "end_time": "2021-07-04T19:52:03.298374",
     "exception": false,
     "start_time": "2021-07-04T19:49:17.328612",
     "status": "completed"
    },
    "tags": []
   },
   "outputs": [
    {
     "name": "stdout",
     "output_type": "stream",
     "text": [
      "Fitting 10 folds for each of 180 candidates, totalling 1800 fits\n"
     ]
    },
    {
     "name": "stderr",
     "output_type": "stream",
     "text": [
      "[Parallel(n_jobs=-1)]: Using backend LokyBackend with 4 concurrent workers.\n",
      "[Parallel(n_jobs=-1)]: Done  33 tasks      | elapsed:    5.4s\n",
      "[Parallel(n_jobs=-1)]: Done 154 tasks      | elapsed:   16.0s\n",
      "[Parallel(n_jobs=-1)]: Done 357 tasks      | elapsed:   33.9s\n",
      "[Parallel(n_jobs=-1)]: Done 640 tasks      | elapsed:   59.3s\n",
      "[Parallel(n_jobs=-1)]: Done 1005 tasks      | elapsed:  1.5min\n",
      "[Parallel(n_jobs=-1)]: Done 1450 tasks      | elapsed:  2.2min\n",
      "[Parallel(n_jobs=-1)]: Done 1800 out of 1800 | elapsed:  2.8min finished\n"
     ]
    },
    {
     "data": {
      "text/plain": [
       "GridSearchCV(cv=10, estimator=RandomForestRegressor(), n_jobs=-1,\n",
       "             param_grid={'max_depth': [1, 3, 5, 8, 10],\n",
       "                         'max_features': [2, 5, 10],\n",
       "                         'min_samples_split': [5, 10, 20],\n",
       "                         'n_estimators': [50, 100, 150, 200]},\n",
       "             scoring='neg_mean_squared_error', verbose=2)"
      ]
     },
     "execution_count": 53,
     "metadata": {},
     "output_type": "execute_result"
    }
   ],
   "source": [
    "rfrr.fit(x_train, y_train)"
   ]
  },
  {
   "cell_type": "code",
   "execution_count": 54,
   "id": "a9e3ff9c",
   "metadata": {
    "execution": {
     "iopub.execute_input": "2021-07-04T19:52:03.500372Z",
     "iopub.status.busy": "2021-07-04T19:52:03.499259Z",
     "iopub.status.idle": "2021-07-04T19:52:03.507238Z",
     "shell.execute_reply": "2021-07-04T19:52:03.507757Z",
     "shell.execute_reply.started": "2021-07-04T11:13:11.391960Z"
    },
    "id": "ibOCVheRL7vd",
    "outputId": "7992f813-eadc-4a30-827d-b470a3683436",
    "papermill": {
     "duration": 0.121933,
     "end_time": "2021-07-04T19:52:03.507934",
     "exception": false,
     "start_time": "2021-07-04T19:52:03.386001",
     "status": "completed"
    },
    "tags": []
   },
   "outputs": [
    {
     "data": {
      "text/plain": [
       "RandomForestRegressor(max_depth=8, max_features=5, min_samples_split=5)"
      ]
     },
     "execution_count": 54,
     "metadata": {},
     "output_type": "execute_result"
    }
   ],
   "source": [
    "rfrr.best_estimator_"
   ]
  },
  {
   "cell_type": "code",
   "execution_count": 55,
   "id": "c638b8d3",
   "metadata": {
    "execution": {
     "iopub.execute_input": "2021-07-04T19:52:03.688442Z",
     "iopub.status.busy": "2021-07-04T19:52:03.687824Z",
     "iopub.status.idle": "2021-07-04T19:52:03.706218Z",
     "shell.execute_reply": "2021-07-04T19:52:03.706787Z",
     "shell.execute_reply.started": "2021-07-04T11:13:11.400709Z"
    },
    "id": "2DtslqbTL7vd",
    "outputId": "c7ef930d-b75d-4720-d5d9-1ad46fc6a599",
    "papermill": {
     "duration": 0.109854,
     "end_time": "2021-07-04T19:52:03.706976",
     "exception": false,
     "start_time": "2021-07-04T19:52:03.597122",
     "status": "completed"
    },
    "tags": []
   },
   "outputs": [
    {
     "name": "stdout",
     "output_type": "stream",
     "text": [
      "Random Forest Mse score :  756451.8984541863\n",
      "Random Forest R2 score 0.796623843969428\n",
      "Random Forest mape score 3.3580048022953912\n"
     ]
    }
   ],
   "source": [
    "y_pred = rfrr.predict(x_test)\n",
    "mse = mean_squared_error(y_test, y_pred)\n",
    "print(\"Random Forest Mse score : \", mse)\n",
    "r2 = r2_score(y_test, y_pred)\n",
    "print(\"Random Forest R2 score\",r2)\n",
    "mape = np.mean(abs((y_pred-y_test)/y_test))*100\n",
    "print(\"Random Forest mape score\",mape)"
   ]
  },
  {
   "cell_type": "code",
   "execution_count": null,
   "id": "97250923",
   "metadata": {
    "id": "I-1zLPvLL7vd",
    "papermill": {
     "duration": 0.088557,
     "end_time": "2021-07-04T19:52:03.884350",
     "exception": false,
     "start_time": "2021-07-04T19:52:03.795793",
     "status": "completed"
    },
    "tags": []
   },
   "outputs": [],
   "source": []
  },
  {
   "cell_type": "code",
   "execution_count": 56,
   "id": "b0ea1abb",
   "metadata": {
    "execution": {
     "iopub.execute_input": "2021-07-04T19:52:04.067139Z",
     "iopub.status.busy": "2021-07-04T19:52:04.066397Z",
     "iopub.status.idle": "2021-07-04T19:52:04.070309Z",
     "shell.execute_reply": "2021-07-04T19:52:04.070803Z",
     "shell.execute_reply.started": "2021-07-04T11:13:11.437072Z"
    },
    "id": "a0ZBKMG4L7vd",
    "papermill": {
     "duration": 0.097589,
     "end_time": "2021-07-04T19:52:04.070998",
     "exception": false,
     "start_time": "2021-07-04T19:52:03.973409",
     "status": "completed"
    },
    "tags": []
   },
   "outputs": [],
   "source": [
    "parametresGrid_gbr = {\"max_depth\":[3,5,8,10],\n",
    "                 \"max_features\":[2,5,10],\n",
    "                 \"min_samples_split\":[10,50,100],\n",
    "                 \"n_estimators\":[100,200,500,1000]}"
   ]
  },
  {
   "cell_type": "code",
   "execution_count": 57,
   "id": "cc0f27c8",
   "metadata": {
    "execution": {
     "iopub.execute_input": "2021-07-04T19:52:04.252586Z",
     "iopub.status.busy": "2021-07-04T19:52:04.251938Z",
     "iopub.status.idle": "2021-07-04T19:52:04.256432Z",
     "shell.execute_reply": "2021-07-04T19:52:04.256953Z",
     "shell.execute_reply.started": "2021-07-04T11:13:11.444420Z"
    },
    "id": "SqYtWTBlL7ve",
    "papermill": {
     "duration": 0.097052,
     "end_time": "2021-07-04T19:52:04.257134",
     "exception": false,
     "start_time": "2021-07-04T19:52:04.160082",
     "status": "completed"
    },
    "tags": []
   },
   "outputs": [],
   "source": [
    "gbrr = GridSearchCV(gbr, parametresGrid_gbr, cv = 10, scoring=\"neg_mean_squared_error\", refit = True,\n",
    "                  n_jobs = -1, verbose = 2)"
   ]
  },
  {
   "cell_type": "code",
   "execution_count": 58,
   "id": "9715dfd1",
   "metadata": {
    "execution": {
     "iopub.execute_input": "2021-07-04T19:52:04.441394Z",
     "iopub.status.busy": "2021-07-04T19:52:04.440616Z",
     "iopub.status.idle": "2021-07-04T19:53:28.999418Z",
     "shell.execute_reply": "2021-07-04T19:53:28.998905Z",
     "shell.execute_reply.started": "2021-07-04T11:13:11.458904Z"
    },
    "id": "g7rlhvDRL7ve",
    "outputId": "41eae178-44a9-454f-90e8-3345fb5859ca",
    "papermill": {
     "duration": 84.653668,
     "end_time": "2021-07-04T19:53:28.999566",
     "exception": false,
     "start_time": "2021-07-04T19:52:04.345898",
     "status": "completed"
    },
    "tags": []
   },
   "outputs": [
    {
     "name": "stdout",
     "output_type": "stream",
     "text": [
      "Fitting 10 folds for each of 144 candidates, totalling 1440 fits\n"
     ]
    },
    {
     "name": "stderr",
     "output_type": "stream",
     "text": [
      "[Parallel(n_jobs=-1)]: Using backend LokyBackend with 4 concurrent workers.\n",
      "[Parallel(n_jobs=-1)]: Done  92 tasks      | elapsed:    4.7s\n",
      "[Parallel(n_jobs=-1)]: Done 306 tasks      | elapsed:   16.7s\n",
      "[Parallel(n_jobs=-1)]: Done 509 tasks      | elapsed:   27.6s\n",
      "[Parallel(n_jobs=-1)]: Done 792 tasks      | elapsed:   44.8s\n",
      "[Parallel(n_jobs=-1)]: Done 1157 tasks      | elapsed:  1.1min\n",
      "[Parallel(n_jobs=-1)]: Done 1440 out of 1440 | elapsed:  1.4min finished\n"
     ]
    },
    {
     "data": {
      "text/plain": [
       "GridSearchCV(cv=10, estimator=GradientBoostingRegressor(), n_jobs=-1,\n",
       "             param_grid={'max_depth': [3, 5, 8, 10], 'max_features': [2, 5, 10],\n",
       "                         'min_samples_split': [10, 50, 100],\n",
       "                         'n_estimators': [100, 200, 500, 1000]},\n",
       "             scoring='neg_mean_squared_error', verbose=2)"
      ]
     },
     "execution_count": 58,
     "metadata": {},
     "output_type": "execute_result"
    }
   ],
   "source": [
    "gbrr.fit(x_train, y_train)"
   ]
  },
  {
   "cell_type": "code",
   "execution_count": 59,
   "id": "98fe599b",
   "metadata": {
    "execution": {
     "iopub.execute_input": "2021-07-04T19:53:29.190338Z",
     "iopub.status.busy": "2021-07-04T19:53:29.189652Z",
     "iopub.status.idle": "2021-07-04T19:53:29.195271Z",
     "shell.execute_reply": "2021-07-04T19:53:29.195860Z",
     "shell.execute_reply.started": "2021-07-04T11:14:32.856033Z"
    },
    "id": "muVZsKsXL7ve",
    "outputId": "144902d2-9f2e-4540-c870-bbd774f2dc99",
    "papermill": {
     "duration": 0.104225,
     "end_time": "2021-07-04T19:53:29.196029",
     "exception": false,
     "start_time": "2021-07-04T19:53:29.091804",
     "status": "completed"
    },
    "tags": []
   },
   "outputs": [
    {
     "data": {
      "text/plain": [
       "GradientBoostingRegressor(max_depth=8, max_features=2, min_samples_split=50,\n",
       "                          n_estimators=200)"
      ]
     },
     "execution_count": 59,
     "metadata": {},
     "output_type": "execute_result"
    }
   ],
   "source": [
    "gbrr.best_estimator_"
   ]
  },
  {
   "cell_type": "code",
   "execution_count": 60,
   "id": "24b943d9",
   "metadata": {
    "execution": {
     "iopub.execute_input": "2021-07-04T19:53:29.384951Z",
     "iopub.status.busy": "2021-07-04T19:53:29.384316Z",
     "iopub.status.idle": "2021-07-04T19:53:29.396641Z",
     "shell.execute_reply": "2021-07-04T19:53:29.396089Z",
     "shell.execute_reply.started": "2021-07-04T11:14:32.864063Z"
    },
    "id": "yaOMiPWOL7ve",
    "outputId": "736ab901-6a6d-4eb5-d057-51023758ae52",
    "papermill": {
     "duration": 0.107038,
     "end_time": "2021-07-04T19:53:29.396801",
     "exception": false,
     "start_time": "2021-07-04T19:53:29.289763",
     "status": "completed"
    },
    "tags": []
   },
   "outputs": [
    {
     "name": "stdout",
     "output_type": "stream",
     "text": [
      "Gradient Boost Mse score :  692680.8249557939\n",
      "Gradient Boost R2 score 0.813769039613129\n",
      "Gradient Boost mape score 3.5402685763865236\n"
     ]
    }
   ],
   "source": [
    "y_pred = gbrr.predict(x_test)\n",
    "mse = mean_squared_error(y_test, y_pred)\n",
    "print(\"Gradient Boost Mse score : \", mse)\n",
    "r2 = r2_score(y_test, y_pred)\n",
    "print(\"Gradient Boost R2 score\",r2)\n",
    "mape = np.mean(abs((y_pred-y_test)/y_test))*100\n",
    "print(\"Gradient Boost mape score\",mape)"
   ]
  },
  {
   "cell_type": "code",
   "execution_count": 61,
   "id": "964581e7",
   "metadata": {
    "execution": {
     "iopub.execute_input": "2021-07-04T19:53:29.589296Z",
     "iopub.status.busy": "2021-07-04T19:53:29.588640Z",
     "iopub.status.idle": "2021-07-04T19:53:29.591926Z",
     "shell.execute_reply": "2021-07-04T19:53:29.591366Z",
     "shell.execute_reply.started": "2021-07-04T11:14:32.884912Z"
    },
    "id": "5N8LpUAaL7vf",
    "papermill": {
     "duration": 0.102851,
     "end_time": "2021-07-04T19:53:29.592075",
     "exception": false,
     "start_time": "2021-07-04T19:53:29.489224",
     "status": "completed"
    },
    "tags": []
   },
   "outputs": [],
   "source": [
    "parametresGrid_xgb = {\"nthread\":[4],\"objective\":[\"reg:linear\"],\n",
    "                 \"learnin_rate\":[0.03,0.05,0.07], \"max_depth\" : [5,6,7],\n",
    "                 \"min_child_weight\":[4,5,6], \"silent\":[1],\n",
    "                 \"subsample\":[0.7], \"colsample_bytree\":[0.7],\n",
    "                 \"n_estimators\":[100,500,1000]}"
   ]
  },
  {
   "cell_type": "code",
   "execution_count": 62,
   "id": "340fbc81",
   "metadata": {
    "execution": {
     "iopub.execute_input": "2021-07-04T19:53:29.781784Z",
     "iopub.status.busy": "2021-07-04T19:53:29.781140Z",
     "iopub.status.idle": "2021-07-04T19:53:29.784071Z",
     "shell.execute_reply": "2021-07-04T19:53:29.783500Z",
     "shell.execute_reply.started": "2021-07-04T11:14:32.898440Z"
    },
    "id": "hF0hRmNZL7vf",
    "papermill": {
     "duration": 0.099267,
     "end_time": "2021-07-04T19:53:29.784208",
     "exception": false,
     "start_time": "2021-07-04T19:53:29.684941",
     "status": "completed"
    },
    "tags": []
   },
   "outputs": [],
   "source": [
    "xgbr = GridSearchCV(xgb, parametresGrid_xgb, cv = 10, scoring=\"neg_mean_squared_error\", refit = True,\n",
    "                n_jobs = -1, verbose = 2)"
   ]
  },
  {
   "cell_type": "code",
   "execution_count": 63,
   "id": "52787d3b",
   "metadata": {
    "execution": {
     "iopub.execute_input": "2021-07-04T19:53:29.971303Z",
     "iopub.status.busy": "2021-07-04T19:53:29.970659Z",
     "iopub.status.idle": "2021-07-05T04:22:32.598980Z",
     "shell.execute_reply": "2021-07-05T04:22:32.597342Z"
    },
    "id": "dTcILpIEL7vf",
    "outputId": "1f10e4c1-1ad9-4cc7-b6ba-b73ec5dd26ea",
    "papermill": {
     "duration": 30542.722843,
     "end_time": "2021-07-05T04:22:32.599164",
     "exception": false,
     "start_time": "2021-07-04T19:53:29.876321",
     "status": "completed"
    },
    "tags": []
   },
   "outputs": [
    {
     "name": "stdout",
     "output_type": "stream",
     "text": [
      "Fitting 10 folds for each of 81 candidates, totalling 810 fits\n"
     ]
    },
    {
     "name": "stderr",
     "output_type": "stream",
     "text": [
      "[Parallel(n_jobs=-1)]: Using backend LokyBackend with 4 concurrent workers.\n",
      "[Parallel(n_jobs=-1)]: Done  33 tasks      | elapsed: 20.4min\n",
      "[Parallel(n_jobs=-1)]: Done 154 tasks      | elapsed: 94.8min\n",
      "[Parallel(n_jobs=-1)]: Done 357 tasks      | elapsed: 223.9min\n",
      "[Parallel(n_jobs=-1)]: Done 640 tasks      | elapsed: 394.1min\n"
     ]
    },
    {
     "name": "stdout",
     "output_type": "stream",
     "text": [
      "[04:22:32] WARNING: ../src/objective/regression_obj.cu:171: reg:linear is now deprecated in favor of reg:squarederror.\n",
      "[04:22:32] WARNING: ../src/learner.cc:573: \n",
      "Parameters: { \"learnin_rate\", \"silent\" } might not be used.\n",
      "\n",
      "  This may not be accurate due to some parameters are only used in language bindings but\n",
      "  passed down to XGBoost core.  Or some parameters are not used but slip through this\n",
      "  verification. Please open an issue if you find above cases.\n",
      "\n",
      "\n"
     ]
    },
    {
     "name": "stderr",
     "output_type": "stream",
     "text": [
      "[Parallel(n_jobs=-1)]: Done 810 out of 810 | elapsed: 509.0min finished\n"
     ]
    },
    {
     "data": {
      "text/plain": [
       "GridSearchCV(cv=10,\n",
       "             estimator=XGBRegressor(base_score=0.5, booster='gbtree',\n",
       "                                    colsample_bylevel=1, colsample_bynode=1,\n",
       "                                    colsample_bytree=1, gamma=0, gpu_id=-1,\n",
       "                                    importance_type='gain',\n",
       "                                    interaction_constraints='',\n",
       "                                    learning_rate=0.300000012, max_delta_step=0,\n",
       "                                    max_depth=6, min_child_weight=1,\n",
       "                                    missing=nan, monotone_constraints='()',\n",
       "                                    n_estimators=100, n_jobs=4,\n",
       "                                    num_parallel...\n",
       "                                    scale_pos_weight=1, subsample=1,\n",
       "                                    tree_method='exact', validate_parameters=1,\n",
       "                                    verbosity=None),\n",
       "             n_jobs=-1,\n",
       "             param_grid={'colsample_bytree': [0.7],\n",
       "                         'learnin_rate': [0.03, 0.05, 0.07],\n",
       "                         'max_depth': [5, 6, 7], 'min_child_weight': [4, 5, 6],\n",
       "                         'n_estimators': [100, 500, 1000], 'nthread': [4],\n",
       "                         'objective': ['reg:linear'], 'silent': [1],\n",
       "                         'subsample': [0.7]},\n",
       "             scoring='neg_mean_squared_error', verbose=2)"
      ]
     },
     "execution_count": 63,
     "metadata": {},
     "output_type": "execute_result"
    }
   ],
   "source": [
    "xgbr.fit(x_train, y_train)"
   ]
  },
  {
   "cell_type": "code",
   "execution_count": 64,
   "id": "83b311e6",
   "metadata": {
    "execution": {
     "iopub.execute_input": "2021-07-05T04:22:32.793483Z",
     "iopub.status.busy": "2021-07-05T04:22:32.792508Z",
     "iopub.status.idle": "2021-07-05T04:22:32.799793Z",
     "shell.execute_reply": "2021-07-05T04:22:32.800301Z"
    },
    "id": "a94NUZnCL7vf",
    "outputId": "9096f9e5-b665-4375-ee17-cb5c4025080e",
    "papermill": {
     "duration": 0.107855,
     "end_time": "2021-07-05T04:22:32.800477",
     "exception": false,
     "start_time": "2021-07-05T04:22:32.692622",
     "status": "completed"
    },
    "tags": []
   },
   "outputs": [
    {
     "data": {
      "text/plain": [
       "XGBRegressor(base_score=0.5, booster='gbtree', colsample_bylevel=1,\n",
       "             colsample_bynode=1, colsample_bytree=0.7, gamma=0, gpu_id=-1,\n",
       "             importance_type='gain', interaction_constraints='',\n",
       "             learnin_rate=0.03, learning_rate=0.300000012, max_delta_step=0,\n",
       "             max_depth=5, min_child_weight=4, missing=nan,\n",
       "             monotone_constraints='()', n_estimators=100, n_jobs=4, nthread=4,\n",
       "             num_parallel_tree=1, objective='reg:linear', random_state=0,\n",
       "             reg_alpha=0, reg_lambda=1, scale_pos_weight=1, silent=1,\n",
       "             subsample=0.7, tree_method='exact', validate_parameters=1,\n",
       "             verbosity=None)"
      ]
     },
     "execution_count": 64,
     "metadata": {},
     "output_type": "execute_result"
    }
   ],
   "source": [
    "xgbr.best_estimator_"
   ]
  },
  {
   "cell_type": "code",
   "execution_count": 65,
   "id": "d351a044",
   "metadata": {
    "execution": {
     "iopub.execute_input": "2021-07-05T04:22:33.007557Z",
     "iopub.status.busy": "2021-07-05T04:22:33.006847Z",
     "iopub.status.idle": "2021-07-05T04:22:33.050074Z",
     "shell.execute_reply": "2021-07-05T04:22:33.050547Z"
    },
    "id": "boS-ccyjL7vg",
    "papermill": {
     "duration": 0.154342,
     "end_time": "2021-07-05T04:22:33.050741",
     "exception": false,
     "start_time": "2021-07-05T04:22:32.896399",
     "status": "completed"
    },
    "tags": []
   },
   "outputs": [
    {
     "name": "stdout",
     "output_type": "stream",
     "text": [
      "[04:22:32] WARNING: ../src/learner.cc:573: \n",
      "Parameters: { \"learnin_rate\", \"silent\" } might not be used.\n",
      "\n",
      "  This may not be accurate due to some parameters are only used in language bindings but\n",
      "  passed down to XGBoost core.  Or some parameters are not used but slip through this\n",
      "  verification. Please open an issue if you find above cases.\n",
      "\n",
      "\n"
     ]
    }
   ],
   "source": [
    "xgbr = XGBRegressor(colsample_bytree=0.7, learnin_rate=0.03, max_depth=7,\n",
    "             min_child_weight=4, nthread=4, silent=1, subsample=0.7).fit(x_train, y_train)"
   ]
  },
  {
   "cell_type": "code",
   "execution_count": 66,
   "id": "e45750eb",
   "metadata": {
    "execution": {
     "iopub.execute_input": "2021-07-05T04:22:33.246856Z",
     "iopub.status.busy": "2021-07-05T04:22:33.246270Z",
     "iopub.status.idle": "2021-07-05T04:22:33.263609Z",
     "shell.execute_reply": "2021-07-05T04:22:33.264617Z"
    },
    "id": "WAJBealYL7vg",
    "outputId": "4debbf06-4c29-40a7-87be-eeea37224282",
    "papermill": {
     "duration": 0.116746,
     "end_time": "2021-07-05T04:22:33.264839",
     "exception": false,
     "start_time": "2021-07-05T04:22:33.148093",
     "status": "completed"
    },
    "tags": []
   },
   "outputs": [
    {
     "name": "stdout",
     "output_type": "stream",
     "text": [
      "XGBoost Mse score :  739906.476835705\n",
      "XGBoost R2 score 0.8010721694420034\n",
      "XGBoost mape score 3.4246753214443677\n"
     ]
    }
   ],
   "source": [
    "y_pred = xgbr.predict(x_test)\n",
    "mse = mean_squared_error(y_test, y_pred)\n",
    "print(\"XGBoost Mse score : \", mse)\n",
    "r2 = r2_score(y_test, y_pred)\n",
    "print(\"XGBoost R2 score\",r2)\n",
    "mape = np.mean(abs((y_pred-y_test)/y_test))*100\n",
    "print(\"XGBoost mape score\",mape)"
   ]
  },
  {
   "cell_type": "code",
   "execution_count": null,
   "id": "b158d6fe",
   "metadata": {
    "id": "_kLy7F0bL7vg",
    "papermill": {
     "duration": 0.095051,
     "end_time": "2021-07-05T04:22:33.457273",
     "exception": false,
     "start_time": "2021-07-05T04:22:33.362222",
     "status": "completed"
    },
    "tags": []
   },
   "outputs": [],
   "source": []
  },
  {
   "cell_type": "code",
   "execution_count": 67,
   "id": "fceb7387",
   "metadata": {
    "execution": {
     "iopub.execute_input": "2021-07-05T04:22:33.654311Z",
     "iopub.status.busy": "2021-07-05T04:22:33.653604Z",
     "iopub.status.idle": "2021-07-05T04:22:33.886480Z",
     "shell.execute_reply": "2021-07-05T04:22:33.885797Z"
    },
    "id": "rSoLmoaLL7vg",
    "outputId": "f9cbce55-e9b0-4ddc-e25f-ae65bae2981e",
    "papermill": {
     "duration": 0.333333,
     "end_time": "2021-07-05T04:22:33.886632",
     "exception": false,
     "start_time": "2021-07-05T04:22:33.553299",
     "status": "completed"
    },
    "tags": []
   },
   "outputs": [
    {
     "data": {
      "text/plain": [
       "<AxesSubplot:>"
      ]
     },
     "execution_count": 67,
     "metadata": {},
     "output_type": "execute_result"
    },
    {
     "data": {
      "image/png": "[encoded data removed]",
      "text/plain": [
       "<Figure size 504x504 with 1 Axes>"
      ]
     },
     "metadata": {
      "needs_background": "light"
     },
     "output_type": "display_data"
    }
   ],
   "source": [
    "feat_importances = pd.Series(xgbr.feature_importances_, index=x.columns)\n",
    "feat_importances.nlargest(10).plot(kind='barh',figsize=(7,7))"
   ]
  },
  {
   "cell_type": "code",
   "execution_count": 68,
   "id": "2aa57aaf",
   "metadata": {
    "execution": {
     "iopub.execute_input": "2021-07-05T04:22:34.089345Z",
     "iopub.status.busy": "2021-07-05T04:22:34.088754Z",
     "iopub.status.idle": "2021-07-05T04:22:34.114230Z",
     "shell.execute_reply": "2021-07-05T04:22:34.113580Z"
    },
    "id": "AcgsgmI3L7vh",
    "outputId": "4a586cd4-a208-414c-a33d-c4af427de37f",
    "papermill": {
     "duration": 0.128599,
     "end_time": "2021-07-05T04:22:34.114367",
     "exception": false,
     "start_time": "2021-07-05T04:22:33.985768",
     "status": "completed"
    },
    "tags": []
   },
   "outputs": [
    {
     "data": {
      "text/plain": [
       "array([0.26103607, 0.0366353 , 0.06946146, 0.0863184 , 0.03313969,\n",
       "       0.06668629, 0.        , 0.        , 0.4457751 , 0.00094776],\n",
       "      dtype=float32)"
      ]
     },
     "execution_count": 68,
     "metadata": {},
     "output_type": "execute_result"
    }
   ],
   "source": [
    "xgbr.feature_importances_"
   ]
  },
  {
   "cell_type": "code",
   "execution_count": 69,
   "id": "2c3f9325",
   "metadata": {
    "execution": {
     "iopub.execute_input": "2021-07-05T04:22:34.313469Z",
     "iopub.status.busy": "2021-07-05T04:22:34.312789Z",
     "iopub.status.idle": "2021-07-05T04:22:34.318272Z",
     "shell.execute_reply": "2021-07-05T04:22:34.318785Z"
    },
    "id": "6Ror2i6xL7vh",
    "papermill": {
     "duration": 0.108097,
     "end_time": "2021-07-05T04:22:34.318980",
     "exception": false,
     "start_time": "2021-07-05T04:22:34.210883",
     "status": "completed"
    },
    "tags": []
   },
   "outputs": [],
   "source": [
    "y_pred = xgbr.predict(x_train)"
   ]
  },
  {
   "cell_type": "code",
   "execution_count": 70,
   "id": "3cd57315",
   "metadata": {
    "execution": {
     "iopub.execute_input": "2021-07-05T04:22:34.526351Z",
     "iopub.status.busy": "2021-07-05T04:22:34.525607Z",
     "iopub.status.idle": "2021-07-05T04:22:34.551615Z",
     "shell.execute_reply": "2021-07-05T04:22:34.552967Z"
    },
    "id": "838oT5FCL7vh",
    "outputId": "95135fea-8bea-4012-d759-54c8557e1f75",
    "papermill": {
     "duration": 0.134808,
     "end_time": "2021-07-05T04:22:34.553307",
     "exception": false,
     "start_time": "2021-07-05T04:22:34.418499",
     "status": "completed"
    },
    "tags": []
   },
   "outputs": [
    {
     "name": "stdout",
     "output_type": "stream",
     "text": [
      "                            OLS Regression Results                            \n",
      "==============================================================================\n",
      "Dep. Variable:                 y_pred   R-squared:                       0.780\n",
      "Model:                            OLS   Adj. R-squared:                  0.749\n",
      "Method:                 Least Squares   F-statistic:                     25.52\n",
      "Date:                Mon, 05 Jul 2021   Prob (F-statistic):           7.46e-20\n",
      "Time:                        04:22:34   Log-Likelihood:                -657.63\n",
      "No. Observations:                  83   AIC:                             1337.\n",
      "Df Residuals:                      72   BIC:                             1364.\n",
      "Df Model:                          10                                         \n",
      "Covariance Type:            nonrobust                                         \n",
      "==============================================================================\n",
      "                 coef    std err          t      P>|t|      [0.025      0.975]\n",
      "------------------------------------------------------------------------------\n",
      "Intercept   2.002e+04     78.722    254.303      0.000    1.99e+04    2.02e+04\n",
      "x_train[0] -1051.6614     86.579    -12.147      0.000   -1224.253    -879.070\n",
      "x_train[1]   -57.1472     83.759     -0.682      0.497    -224.118     109.824\n",
      "x_train[2]   415.4110    114.013      3.644      0.001     188.129     642.693\n",
      "x_train[3]   117.8444    114.860      1.026      0.308    -111.125     346.814\n",
      "x_train[4]   132.8282     88.815      1.496      0.139     -44.221     309.878\n",
      "x_train[5]  -507.9741     88.585     -5.734      0.000    -684.566    -331.382\n",
      "x_train[6]    86.4748     81.967      1.055      0.295     -76.922     249.872\n",
      "x_train[7]     9.1367     86.538      0.106      0.916    -163.373     181.646\n",
      "x_train[8]  -345.6063     90.238     -3.830      0.000    -525.492    -165.720\n",
      "x_train[9]    53.2424     80.582      0.661      0.511    -107.395     213.880\n",
      "==============================================================================\n",
      "Omnibus:                        9.077   Durbin-Watson:                   1.752\n",
      "Prob(Omnibus):                  0.011   Jarque-Bera (JB):               10.731\n",
      "Skew:                           0.537   Prob(JB):                      0.00467\n",
      "Kurtosis:                       4.396   Cond. No.                         2.77\n",
      "==============================================================================\n",
      "\n",
      "Notes:\n",
      "[1] Standard Errors assume that the covariance matrix of the errors is correctly specified.\n"
     ]
    }
   ],
   "source": [
    "model_xgb = sm.ols(formula=\"y_pred~x_train\", data=x_train).fit()\n",
    "print(model_xgb.summary())"
   ]
  },
  {
   "cell_type": "code",
   "execution_count": 71,
   "id": "4a2c646e",
   "metadata": {
    "execution": {
     "iopub.execute_input": "2021-07-05T04:22:34.797665Z",
     "iopub.status.busy": "2021-07-05T04:22:34.796765Z",
     "iopub.status.idle": "2021-07-05T04:22:34.799635Z",
     "shell.execute_reply": "2021-07-05T04:22:34.799143Z"
    },
    "id": "m8fx2nD5L7vh",
    "papermill": {
     "duration": 0.106403,
     "end_time": "2021-07-05T04:22:34.799791",
     "exception": false,
     "start_time": "2021-07-05T04:22:34.693388",
     "status": "completed"
    },
    "tags": []
   },
   "outputs": [],
   "source": [
    " def get_params(x,y):\n",
    "        model = sm.ols(formula=\"y~x\", data=x).fit()\n",
    "        coef = model.params\n",
    "        coef = coef[1:]\n",
    "        return coef"
   ]
  },
  {
   "cell_type": "code",
   "execution_count": 72,
   "id": "2bfc86b8",
   "metadata": {
    "execution": {
     "iopub.execute_input": "2021-07-05T04:22:35.006887Z",
     "iopub.status.busy": "2021-07-05T04:22:35.005837Z",
     "iopub.status.idle": "2021-07-05T04:22:35.012258Z",
     "shell.execute_reply": "2021-07-05T04:22:35.013046Z"
    },
    "id": "ejk7ur5h_mNg",
    "outputId": "b3870c4e-b020-47aa-ac8a-50ee45a2d147",
    "papermill": {
     "duration": 0.114957,
     "end_time": "2021-07-05T04:22:35.013312",
     "exception": false,
     "start_time": "2021-07-05T04:22:34.898355",
     "status": "completed"
    },
    "tags": []
   },
   "outputs": [
    {
     "data": {
      "text/plain": [
       "x[0]   -1051.661422\n",
       "x[1]     -57.147158\n",
       "x[2]     415.411026\n",
       "x[3]     117.844422\n",
       "x[4]     132.828213\n",
       "x[5]    -507.974061\n",
       "x[6]      86.474801\n",
       "x[7]       9.136749\n",
       "x[8]    -345.606310\n",
       "x[9]      53.242380\n",
       "dtype: float64"
      ]
     },
     "execution_count": 72,
     "metadata": {},
     "output_type": "execute_result"
    }
   ],
   "source": [
    "coef = get_params(x_train,y_pred)\n",
    "coef"
   ]
  },
  {
   "cell_type": "code",
   "execution_count": 73,
   "id": "25bc1d98",
   "metadata": {
    "execution": {
     "iopub.execute_input": "2021-07-05T04:22:35.226237Z",
     "iopub.status.busy": "2021-07-05T04:22:35.225584Z",
     "iopub.status.idle": "2021-07-05T04:22:35.228498Z",
     "shell.execute_reply": "2021-07-05T04:22:35.228002Z"
    },
    "id": "6ecPYqiAL7vi",
    "papermill": {
     "duration": 0.107762,
     "end_time": "2021-07-05T04:22:35.228632",
     "exception": false,
     "start_time": "2021-07-05T04:22:35.120870",
     "status": "completed"
    },
    "tags": []
   },
   "outputs": [],
   "source": [
    "def elasticty(x,y,get_params):\n",
    "      x_mean = x.mean()\n",
    "      elasticity = np.column_stack([coef, x_mean]).tolist()\n",
    "      elasticity = pd.DataFrame(elasticity)\n",
    "      elasticity.columns = ([\"Coeffiecents\",\"Mean\"])\n",
    "      elasticity[\"elasticty_value\"] = elasticity[\"Coeffiecents\"]*(elasticity[\"Mean\"]/y.mean())\n",
    "      elasticity.head(20)\n",
    "      return elasticity"
   ]
  },
  {
   "cell_type": "code",
   "execution_count": 74,
   "id": "937c6040",
   "metadata": {
    "execution": {
     "iopub.execute_input": "2021-07-05T04:22:35.442787Z",
     "iopub.status.busy": "2021-07-05T04:22:35.441945Z",
     "iopub.status.idle": "2021-07-05T04:22:35.445315Z",
     "shell.execute_reply": "2021-07-05T04:22:35.445798Z"
    },
    "id": "omG0mwm3L7vi",
    "outputId": "f74683ef-a469-46e0-d346-b30f9972fdc0",
    "papermill": {
     "duration": 0.116804,
     "end_time": "2021-07-05T04:22:35.445964",
     "exception": false,
     "start_time": "2021-07-05T04:22:35.329160",
     "status": "completed"
    },
    "tags": []
   },
   "outputs": [
    {
     "data": {
      "text/html": [
       "<div>\n",
       "<style scoped>\n",
       "    .dataframe tbody tr th:only-of-type {\n",
       "        vertical-align: middle;\n",
       "    }\n",
       "\n",
       "    .dataframe tbody tr th {\n",
       "        vertical-align: top;\n",
       "    }\n",
       "\n",
       "    .dataframe thead th {\n",
       "        text-align: right;\n",
       "    }\n",
       "</style>\n",
       "<table border=\"1\" class=\"dataframe\">\n",
       "  <thead>\n",
       "    <tr style=\"text-align: right;\">\n",
       "      <th></th>\n",
       "      <th>Coeffiecents</th>\n",
       "      <th>Mean</th>\n",
       "      <th>elasticty_value</th>\n",
       "    </tr>\n",
       "  </thead>\n",
       "  <tbody>\n",
       "    <tr>\n",
       "      <th>0</th>\n",
       "      <td>-1051.661422</td>\n",
       "      <td>15.323059</td>\n",
       "      <td>-0.798900</td>\n",
       "    </tr>\n",
       "    <tr>\n",
       "      <th>1</th>\n",
       "      <td>-57.147158</td>\n",
       "      <td>257.528846</td>\n",
       "      <td>-0.729611</td>\n",
       "    </tr>\n",
       "    <tr>\n",
       "      <th>2</th>\n",
       "      <td>415.411026</td>\n",
       "      <td>32.918567</td>\n",
       "      <td>0.677938</td>\n",
       "    </tr>\n",
       "    <tr>\n",
       "      <th>3</th>\n",
       "      <td>117.844422</td>\n",
       "      <td>0.022059</td>\n",
       "      <td>0.000129</td>\n",
       "    </tr>\n",
       "    <tr>\n",
       "      <th>4</th>\n",
       "      <td>132.828213</td>\n",
       "      <td>141.009774</td>\n",
       "      <td>0.928561</td>\n",
       "    </tr>\n",
       "    <tr>\n",
       "      <th>5</th>\n",
       "      <td>-507.974061</td>\n",
       "      <td>2.545966</td>\n",
       "      <td>-0.064116</td>\n",
       "    </tr>\n",
       "    <tr>\n",
       "      <th>6</th>\n",
       "      <td>86.474801</td>\n",
       "      <td>0.038462</td>\n",
       "      <td>0.000165</td>\n",
       "    </tr>\n",
       "    <tr>\n",
       "      <th>7</th>\n",
       "      <td>9.136749</td>\n",
       "      <td>0.038462</td>\n",
       "      <td>0.000017</td>\n",
       "    </tr>\n",
       "    <tr>\n",
       "      <th>8</th>\n",
       "      <td>-345.606310</td>\n",
       "      <td>0.057692</td>\n",
       "      <td>-0.000988</td>\n",
       "    </tr>\n",
       "    <tr>\n",
       "      <th>9</th>\n",
       "      <td>53.242380</td>\n",
       "      <td>0.057692</td>\n",
       "      <td>0.000152</td>\n",
       "    </tr>\n",
       "  </tbody>\n",
       "</table>\n",
       "</div>"
      ],
      "text/plain": [
       "   Coeffiecents        Mean  elasticty_value\n",
       "0  -1051.661422   15.323059        -0.798900\n",
       "1    -57.147158  257.528846        -0.729611\n",
       "2    415.411026   32.918567         0.677938\n",
       "3    117.844422    0.022059         0.000129\n",
       "4    132.828213  141.009774         0.928561\n",
       "5   -507.974061    2.545966        -0.064116\n",
       "6     86.474801    0.038462         0.000165\n",
       "7      9.136749    0.038462         0.000017\n",
       "8   -345.606310    0.057692        -0.000988\n",
       "9     53.242380    0.057692         0.000152"
      ]
     },
     "execution_count": 74,
     "metadata": {},
     "output_type": "execute_result"
    }
   ],
   "source": [
    "elasticty_data = elasticty(x,y,coef)\n",
    "elasticty_data"
   ]
  },
  {
   "cell_type": "code",
   "execution_count": 75,
   "id": "63c491d7",
   "metadata": {
    "execution": {
     "iopub.execute_input": "2021-07-05T04:22:35.692509Z",
     "iopub.status.busy": "2021-07-05T04:22:35.686506Z",
     "iopub.status.idle": "2021-07-05T04:22:35.855999Z",
     "shell.execute_reply": "2021-07-05T04:22:35.855480Z"
    },
    "id": "x4GsDOckL7vj",
    "outputId": "7310cf03-bd35-4fbb-95d5-51a22f8e0408",
    "papermill": {
     "duration": 0.310802,
     "end_time": "2021-07-05T04:22:35.856139",
     "exception": false,
     "start_time": "2021-07-05T04:22:35.545337",
     "status": "completed"
    },
    "tags": []
   },
   "outputs": [
    {
     "data": {
      "image/png": "[encoded data removed]",
      "text/plain": [
       "<Figure size 432x288 with 1 Axes>"
      ]
     },
     "metadata": {
      "needs_background": "light"
     },
     "output_type": "display_data"
    }
   ],
   "source": [
    "sns.barplot(x=elasticty_data[\"elasticty_value\"],\n",
    "            y=x.columns, data=elasticty_data)\n",
    "plt.show()"
   ]
  },
  {
   "cell_type": "code",
   "execution_count": null,
   "id": "bc2d7665",
   "metadata": {
    "id": "j62Kf82YL7vn",
    "papermill": {
     "duration": 0.101095,
     "end_time": "2021-07-05T04:22:36.058053",
     "exception": false,
     "start_time": "2021-07-05T04:22:35.956958",
     "status": "completed"
    },
    "tags": []
   },
   "outputs": [],
   "source": []
  },
  {
   "cell_type": "code",
   "execution_count": null,
   "id": "93494af9",
   "metadata": {
    "id": "cA31vYLwL7vn",
    "papermill": {
     "duration": 0.100168,
     "end_time": "2021-07-05T04:22:36.258854",
     "exception": false,
     "start_time": "2021-07-05T04:22:36.158686",
     "status": "completed"
    },
    "tags": []
   },
   "outputs": [],
   "source": [
    "\n"
   ]
  },
  {
   "cell_type": "code",
   "execution_count": null,
   "id": "9c9383cb",
   "metadata": {
    "id": "ALGhWfrjL7vn",
    "papermill": {
     "duration": 0.100722,
     "end_time": "2021-07-05T04:22:36.461440",
     "exception": false,
     "start_time": "2021-07-05T04:22:36.360718",
     "status": "completed"
    },
    "tags": []
   },
   "outputs": [],
   "source": []
  },
  {
   "cell_type": "code",
   "execution_count": null,
   "id": "1c711512",
   "metadata": {
    "id": "safkIfzwL7vn",
    "papermill": {
     "duration": 0.09994,
     "end_time": "2021-07-05T04:22:36.662293",
     "exception": false,
     "start_time": "2021-07-05T04:22:36.562353",
     "status": "completed"
    },
    "tags": []
   },
   "outputs": [],
   "source": []
  },
  {
   "cell_type": "code",
   "execution_count": null,
   "id": "3f4730ef",
   "metadata": {
    "id": "bjXj7ekcL7vo",
    "papermill": {
     "duration": 0.100918,
     "end_time": "2021-07-05T04:22:36.863863",
     "exception": false,
     "start_time": "2021-07-05T04:22:36.762945",
     "status": "completed"
    },
    "tags": []
   },
   "outputs": [],
   "source": []
  },
  {
   "cell_type": "code",
   "execution_count": null,
   "id": "743f3803",
   "metadata": {
    "id": "AfZIyBZcL7vo",
    "papermill": {
     "duration": 0.102022,
     "end_time": "2021-07-05T04:22:37.066350",
     "exception": false,
     "start_time": "2021-07-05T04:22:36.964328",
     "status": "completed"
    },
    "tags": []
   },
   "outputs": [],
   "source": []
  },
  {
   "cell_type": "code",
   "execution_count": null,
   "id": "bce4a710",
   "metadata": {
    "id": "J9jBnEJmL7vo",
    "papermill": {
     "duration": 0.100641,
     "end_time": "2021-07-05T04:22:37.268089",
     "exception": false,
     "start_time": "2021-07-05T04:22:37.167448",
     "status": "completed"
    },
    "tags": []
   },
   "outputs": [],
   "source": []
  },
  {
   "cell_type": "code",
   "execution_count": null,
   "id": "02ee9c95",
   "metadata": {
    "id": "JZvUNN-_L7vo",
    "papermill": {
     "duration": 0.10113,
     "end_time": "2021-07-05T04:22:37.471091",
     "exception": false,
     "start_time": "2021-07-05T04:22:37.369961",
     "status": "completed"
    },
    "tags": []
   },
   "outputs": [],
   "source": []
  },
  {
   "cell_type": "code",
   "execution_count": null,
   "id": "d42d28ef",
   "metadata": {
    "id": "pgwFS9ONL7vo",
    "papermill": {
     "duration": 0.101007,
     "end_time": "2021-07-05T04:22:37.673212",
     "exception": false,
     "start_time": "2021-07-05T04:22:37.572205",
     "status": "completed"
    },
    "tags": []
   },
   "outputs": [],
   "source": []
  },
  {
   "cell_type": "code",
   "execution_count": null,
   "id": "1c39ccd2",
   "metadata": {
    "id": "5U-xXdm6L7vo",
    "papermill": {
     "duration": 0.10029,
     "end_time": "2021-07-05T04:22:37.878122",
     "exception": false,
     "start_time": "2021-07-05T04:22:37.777832",
     "status": "completed"
    },
    "tags": []
   },
   "outputs": [],
   "source": []
  },
  {
   "cell_type": "code",
   "execution_count": null,
   "id": "6590d10a",
   "metadata": {
    "id": "B4IA3f-9L7vo",
    "papermill": {
     "duration": 0.10172,
     "end_time": "2021-07-05T04:22:38.080855",
     "exception": false,
     "start_time": "2021-07-05T04:22:37.979135",
     "status": "completed"
    },
    "tags": []
   },
   "outputs": [],
   "source": []
  },
  {
   "cell_type": "code",
   "execution_count": null,
   "id": "d4f720b2",
   "metadata": {
    "id": "EsbmKK6YL7vp",
    "papermill": {
     "duration": 0.101084,
     "end_time": "2021-07-05T04:22:38.283853",
     "exception": false,
     "start_time": "2021-07-05T04:22:38.182769",
     "status": "completed"
    },
    "tags": []
   },
   "outputs": [],
   "source": []
  }
 ],
 "metadata": {
  "kernelspec": {
   "display_name": "Python 3",
   "language": "python",
   "name": "python3"
  },
  "language_info": {
   "codemirror_mode": {
    "name": "ipython",
    "version": 3
   },
   "file_extension": ".py",
   "mimetype": "text/x-python",
   "name": "python",
   "nbconvert_exporter": "python",
   "pygments_lexer": "ipython3",
   "version": "3.7.10"
  },
  "papermill": {
   "default_parameters": {},
   "duration": 30852.810824,
   "end_time": "2021-07-05T04:22:39.296935",
   "environment_variables": {},
   "exception": null,
   "input_path": "__notebook__.ipynb",
   "output_path": "__notebook__.ipynb",
   "parameters": {},
   "start_time": "2021-07-04T19:48:26.486111",
   "version": "2.3.3"
  }
 },
 "nbformat": 4,
 "nbformat_minor": 5
}
